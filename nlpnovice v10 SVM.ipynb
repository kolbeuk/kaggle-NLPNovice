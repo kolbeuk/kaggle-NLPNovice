{
 "cells": [
  {
   "cell_type": "code",
   "execution_count": 1,
   "metadata": {},
   "outputs": [],
   "source": [
    "%matplotlib inline\n",
    "%config IPCompleter.greedy=True\n",
    "\n",
    "import string\n",
    "import numpy as np\n",
    "import pandas as pd\n",
    "\n",
    "import matplotlib.pyplot as plt\n",
    "\n",
    "from sklearn.model_selection import train_test_split\n",
    "from sklearn.pipeline import Pipeline\n",
    "from sklearn.feature_extraction.text import CountVectorizer, TfidfVectorizer, TfidfTransformer\n",
    "from sklearn.metrics import accuracy_score, confusion_matrix, classification_report\n",
    "from sklearn.naive_bayes import MultinomialNB\n",
    "from sklearn.linear_model import SGDClassifier\n",
    "\n",
    "import re\n",
    "import nltk\n",
    "import unicodedata\n",
    "from nltk.corpus import stopwords\n",
    "from nltk.tokenize import word_tokenize\n",
    "from collections import defaultdict\n",
    "from tqdm import tqdm\n",
    "\n",
    "import warnings\n",
    "warnings.filterwarnings('ignore')"
   ]
  },
  {
   "cell_type": "code",
   "execution_count": 2,
   "metadata": {},
   "outputs": [
    {
     "name": "stderr",
     "output_type": "stream",
     "text": [
      "[nltk_data] Downloading package stopwords to\n",
      "[nltk_data]     /Users/davidkolb/nltk_data...\n",
      "[nltk_data]   Package stopwords is already up-to-date!\n"
     ]
    }
   ],
   "source": [
    "nltk.download('stopwords')\n",
    "stop_words=set(stopwords.words('english'))"
   ]
  },
  {
   "cell_type": "code",
   "execution_count": 3,
   "metadata": {},
   "outputs": [],
   "source": [
    "test = pd.read_csv('../../data/nlpnovice/test.csv')\n",
    "train = pd.read_csv('../../data/nlpnovice/train.csv')\n"
   ]
  },
  {
   "cell_type": "code",
   "execution_count": 4,
   "metadata": {},
   "outputs": [
    {
     "data": {
      "text/plain": [
       "(<bound method NDFrame.describe of          id keyword location  \\\n",
       " 0         1     NaN      NaN   \n",
       " 1         4     NaN      NaN   \n",
       " 2         5     NaN      NaN   \n",
       " 3         6     NaN      NaN   \n",
       " 4         7     NaN      NaN   \n",
       " ...     ...     ...      ...   \n",
       " 7608  10869     NaN      NaN   \n",
       " 7609  10870     NaN      NaN   \n",
       " 7610  10871     NaN      NaN   \n",
       " 7611  10872     NaN      NaN   \n",
       " 7612  10873     NaN      NaN   \n",
       " \n",
       "                                                    text  target  \n",
       " 0     Our Deeds are the Reason of this #earthquake M...       1  \n",
       " 1                Forest fire near La Ronge Sask. Canada       1  \n",
       " 2     All residents asked to 'shelter in place' are ...       1  \n",
       " 3     13,000 people receive #wildfires evacuation or...       1  \n",
       " 4     Just got sent this photo from Ruby #Alaska as ...       1  \n",
       " ...                                                 ...     ...  \n",
       " 7608  Two giant cranes holding a bridge collapse int...       1  \n",
       " 7609  @aria_ahrary @TheTawniest The out of control w...       1  \n",
       " 7610  M1.94 [01:04 UTC]?5km S of Volcano Hawaii. htt...       1  \n",
       " 7611  Police investigating after an e-bike collided ...       1  \n",
       " 7612  The Latest: More Homes Razed by Northern Calif...       1  \n",
       " \n",
       " [7613 rows x 5 columns]>,\n",
       " <bound method NDFrame.describe of          id keyword location  \\\n",
       " 0         0     NaN      NaN   \n",
       " 1         2     NaN      NaN   \n",
       " 2         3     NaN      NaN   \n",
       " 3         9     NaN      NaN   \n",
       " 4        11     NaN      NaN   \n",
       " ...     ...     ...      ...   \n",
       " 3258  10861     NaN      NaN   \n",
       " 3259  10865     NaN      NaN   \n",
       " 3260  10868     NaN      NaN   \n",
       " 3261  10874     NaN      NaN   \n",
       " 3262  10875     NaN      NaN   \n",
       " \n",
       "                                                    text  \n",
       " 0                    Just happened a terrible car crash  \n",
       " 1     Heard about #earthquake is different cities, s...  \n",
       " 2     there is a forest fire at spot pond, geese are...  \n",
       " 3              Apocalypse lighting. #Spokane #wildfires  \n",
       " 4         Typhoon Soudelor kills 28 in China and Taiwan  \n",
       " ...                                                 ...  \n",
       " 3258  EARTHQUAKE SAFETY LOS ANGELES ÛÒ SAFETY FASTE...  \n",
       " 3259  Storm in RI worse than last hurricane. My city...  \n",
       " 3260  Green Line derailment in Chicago http://t.co/U...  \n",
       " 3261  MEG issues Hazardous Weather Outlook (HWO) htt...  \n",
       " 3262  #CityofCalgary has activated its Municipal Eme...  \n",
       " \n",
       " [3263 rows x 4 columns]>)"
      ]
     },
     "execution_count": 4,
     "metadata": {},
     "output_type": "execute_result"
    }
   ],
   "source": [
    "train.describe, test.describe"
   ]
  },
  {
   "cell_type": "markdown",
   "metadata": {},
   "source": [
    "# Cleaing the Data"
   ]
  },
  {
   "cell_type": "code",
   "execution_count": 5,
   "metadata": {},
   "outputs": [],
   "source": [
    "def remove_whitespace(data):\n",
    "    return data.strip()"
   ]
  },
  {
   "cell_type": "code",
   "execution_count": 6,
   "metadata": {},
   "outputs": [],
   "source": [
    "def remove_URL(data):\n",
    "    url = re.compile(r'https?://\\S+|www\\.\\S+')\n",
    "    return url.sub(r'',data)"
   ]
  },
  {
   "cell_type": "code",
   "execution_count": 7,
   "metadata": {},
   "outputs": [],
   "source": [
    "def remove_html(data):\n",
    "    html=re.compile(r'<.*?>')\n",
    "    return html.sub(r'',data)"
   ]
  },
  {
   "cell_type": "code",
   "execution_count": 8,
   "metadata": {},
   "outputs": [],
   "source": [
    "def remove_emoji(data):\n",
    "    emoji_pattern = re.compile('['\n",
    "                           u'\\U0001F600-\\U0001F64F'  # emoticons\n",
    "                           u'\\U0001F300-\\U0001F5FF'  # symbols & pictographs\n",
    "                           u'\\U0001F680-\\U0001F6FF'  # transport & map symbols\n",
    "                           u'\\U0001F1E0-\\U0001F1FF'  # flags (iOS)\n",
    "                           u'\\U00002702-\\U000027B0'\n",
    "                           u'\\U000024C2-\\U0001F251'\n",
    "                           ']+', flags=re.UNICODE)\n",
    "    return emoji_pattern.sub(r'', data)"
   ]
  },
  {
   "cell_type": "code",
   "execution_count": 9,
   "metadata": {},
   "outputs": [],
   "source": [
    "def remove_accented_chars(data):\n",
    "    return unicodedata.normalize('NFKD', data).encode('ascii', 'ignore').decode('utf-8', 'ignore')"
   ]
  },
  {
   "cell_type": "code",
   "execution_count": 10,
   "metadata": {},
   "outputs": [],
   "source": [
    "def remove_punctuation(data):\n",
    "    table=str.maketrans('','',string.punctuation)\n",
    "    return data.translate(table)"
   ]
  },
  {
   "cell_type": "code",
   "execution_count": 11,
   "metadata": {},
   "outputs": [],
   "source": [
    "def single_char(data):\n",
    "    new_data=''\n",
    "    for w in data:\n",
    "        print(w)\n",
    "        if len(w) > 1:\n",
    "            print(w)\n",
    "            new_data = new_data +  ' ' + w\n",
    "    \n",
    "    return new_data"
   ]
  },
  {
   "cell_type": "code",
   "execution_count": 12,
   "metadata": {},
   "outputs": [],
   "source": [
    "def remove_special_characters(data, remove_digits=False):\n",
    "    pattern = r'[^a-zA-z0-9\\s]' if not remove_digits else r'[^a-zA-z\\s]'\n",
    "    data = re.sub(pattern, '', data)\n",
    "    return data"
   ]
  },
  {
   "cell_type": "code",
   "execution_count": 13,
   "metadata": {},
   "outputs": [],
   "source": [
    "def convert_lower_case(data):\n",
    "    return data.lower()"
   ]
  },
  {
   "cell_type": "code",
   "execution_count": 14,
   "metadata": {},
   "outputs": [],
   "source": [
    "def tokenise(data):\n",
    "    data = word_tokenize(data)\n",
    "    return data"
   ]
  },
  {
   "cell_type": "code",
   "execution_count": 15,
   "metadata": {},
   "outputs": [],
   "source": [
    "def remove_stop_words(data):\n",
    "    filtered_sentence = [w for w in data if not w in stop_words] \n",
    "    return filtered_sentence"
   ]
  },
  {
   "cell_type": "code",
   "execution_count": 16,
   "metadata": {},
   "outputs": [],
   "source": [
    "def stemming(data):\n",
    "    data.apply(lambda x: [stemmer.stem(e) for e in x])\n",
    "    return data"
   ]
  },
  {
   "cell_type": "code",
   "execution_count": 17,
   "metadata": {},
   "outputs": [],
   "source": [
    "def lemmatise(data):\n",
    "    lemmatizer = WordNetLemmatizer()\n",
    "    data.apply(lambda x: [lemmatizer.lemmatize(e) for e in x])\n",
    "    return data "
   ]
  },
  {
   "cell_type": "code",
   "execution_count": 18,
   "metadata": {},
   "outputs": [],
   "source": [
    "def nlp_clean(data):\n",
    "    data = remove_URL(data)\n",
    "    data = remove_html(data)\n",
    "    data = remove_emoji(data)\n",
    "    data = remove_whitespace(data)    \n",
    "    data = remove_accented_chars(data) \n",
    "    data = remove_special_characters(data)\n",
    "    data = remove_punctuation(data)\n",
    "    data = convert_lower_case(data)\n",
    "    return data\n",
    "    \n",
    "def nlp_tokenise(data):\n",
    "    stop_words = set(stopwords.words('english'))\n",
    "    data = tokenise(data)\n",
    "    data = remove_stop_words(data)\n",
    "    return data\n",
    "     \n",
    "def nlp_normalise(data):\n",
    "    stemmer = SnowballStemmer('english')\n",
    "    data = stemming(data)\n",
    "    data = lemmatise(data)\n",
    "    return data"
   ]
  },
  {
   "cell_type": "code",
   "execution_count": 19,
   "metadata": {},
   "outputs": [],
   "source": [
    "# Run preprossing steps to clean data\n",
    "train['text']=train['text'].apply(lambda x : nlp_clean(x))\n",
    "test['text']=test['text'].apply(lambda x : nlp_clean(x))"
   ]
  },
  {
   "cell_type": "code",
   "execution_count": 20,
   "metadata": {},
   "outputs": [],
   "source": [
    "# Run steps to remove stop words\n",
    "train['text']=train['text'].apply(lambda x : nlp_tokenise(x))\n",
    "test['text']=test['text'].apply(lambda x : nlp_tokenise(x))"
   ]
  },
  {
   "cell_type": "code",
   "execution_count": 21,
   "metadata": {},
   "outputs": [],
   "source": [
    "# rejoin Data after tokenisation \n",
    "def combine_text(list_of_text):\n",
    "    combined_text = ''\n",
    "    for word in list_of_text:\n",
    "        combined_text = combined_text + ' ' + word\n",
    "    return combined_text"
   ]
  },
  {
   "cell_type": "code",
   "execution_count": 22,
   "metadata": {},
   "outputs": [],
   "source": [
    "train['text'] = train['text'].apply(lambda x : combine_text(x))\n",
    "test['text'] = test['text'].apply(lambda x : combine_text(x))"
   ]
  },
  {
   "cell_type": "code",
   "execution_count": 23,
   "metadata": {},
   "outputs": [
    {
     "data": {
      "text/plain": [
       "0          deeds reason earthquake may allah forgive us\n",
       "1                 forest fire near la ronge sask canada\n",
       "2      residents asked shelter place notified office...\n",
       "3      13000 people receive wildfires evacuation ord...\n",
       "4      got sent photo ruby alaska smoke wildfires po...\n",
       "5      rockyfire update california hwy 20 closed dir...\n",
       "6      flood disaster heavy rain causes flash floodi...\n",
       "7                            im top hill see fire woods\n",
       "8      theres emergency evacuation happening buildin...\n",
       "9                         im afraid tornado coming area\n",
       "10                      three people died heat wave far\n",
       "11     haha south tampa getting flooded hah wait sec...\n",
       "12     raining flooding florida tampabay tampa 18 19...\n",
       "13                      flood bago myanmar arrived bago\n",
       "14        damage school bus 80 multi car crash breaking\n",
       "15                                            whats man\n",
       "16                                          love fruits\n",
       "17                                        summer lovely\n",
       "18                                             car fast\n",
       "19                                      goooooooaaaaaal\n",
       "20                                           ridiculous\n",
       "21                                          london cool\n",
       "22                                          love skiing\n",
       "23                                        wonderful day\n",
       "24                                             looooool\n",
       "25                                   wayi cant eat shit\n",
       "26                                        nyc last week\n",
       "27                                      love girlfriend\n",
       "28                                               cooool\n",
       "29                                           like pasta\n",
       "Name: text, dtype: object"
      ]
     },
     "execution_count": 23,
     "metadata": {},
     "output_type": "execute_result"
    }
   ],
   "source": [
    "train['text'].head(30)"
   ]
  },
  {
   "cell_type": "code",
   "execution_count": 24,
   "metadata": {},
   "outputs": [
    {
     "data": {
      "text/plain": [
       "0                           happened terrible car crash\n",
       "1      heard earthquake different cities stay safe e...\n",
       "2      forest fire spot pond geese fleeing across st...\n",
       "3                 apocalypse lighting spokane wildfires\n",
       "4                typhoon soudelor kills 28 china taiwan\n",
       "5                                 shakingits earthquake\n",
       "6      theyd probably still show life arsenal yester...\n",
       "7                                                   hey\n",
       "8                                              nice hat\n",
       "9                                                  fuck\n",
       "10                                       dont like cold\n",
       "11                                      nooooooooo dont\n",
       "12                                            dont tell\n",
       "13                                                     \n",
       "14                                              awesome\n",
       "15     birmingham wholesale market ablaze bbc news f...\n",
       "16               sunkxssedharry wear shorts race ablaze\n",
       "17     previouslyondoyintv toke makinwauas marriage ...\n",
       "18                                           check nsfw\n",
       "19     psa iuam splitting personalities techies foll...\n",
       "20            beware world ablaze sierra leone amp guap\n",
       "21              burning man ablaze turban diva via etsy\n",
       "22     diss song people take 1 thing run smh eye ope...\n",
       "23     rape victim dies sets ablaze 16yearold girl d...\n",
       "24                                       setting ablaze\n",
       "25     ctvtoronto bins front field house wer set abl...\n",
       "26     nowplaying alfons ablaze 2015 puls radio puls...\n",
       "27     burning rahm lets hope city hall builds giant...\n",
       "28     philippaeilhart dhublath hurt eyes ablaze ins...\n",
       "29     accident cleared paturnpike patp eb pa18 cran...\n",
       "Name: text, dtype: object"
      ]
     },
     "execution_count": 24,
     "metadata": {},
     "output_type": "execute_result"
    }
   ],
   "source": [
    "test['text'].head(30)"
   ]
  },
  {
   "cell_type": "code",
   "execution_count": 25,
   "metadata": {},
   "outputs": [],
   "source": [
    "# train.to_csv('../../Data/NLPNovice/DSKtrain.csv', index=False)\n",
    "# test.to_csv('../../Data/NLPNovice/DSKtest.csv', index=False)"
   ]
  },
  {
   "cell_type": "markdown",
   "metadata": {},
   "source": [
    "# Load pre cleaned text files"
   ]
  },
  {
   "cell_type": "code",
   "execution_count": 26,
   "metadata": {},
   "outputs": [],
   "source": [
    "# Load pre cleaned text files\n",
    "# train = pd.read_csv('../../Data/NLPNovice/DSKtrain.csv')\n",
    "# test = pd.read_csv('../../Data/NLPNovice/DSKtest.csv')\n",
    "\n",
    "# Convert text column from object to string\n",
    "train['text'] = train['text'].apply(lambda x : str(x))\n",
    "test['text'] = test['text'].apply(lambda x : str(x))\n",
    "\n",
    "#Shuffle Data \n",
    "train = train.sample(frac=1).reset_index(drop=True)\n",
    "test = test.sample(frac=1).reset_index(drop=True)\n",
    "\n",
    "X = train['text']\n",
    "y = train['target']\n",
    "\n",
    "#Split Data\n",
    "X_train, X_test, y_train, y_test = train_test_split(X, y, test_size=0.3, random_state = 42)"
   ]
  },
  {
   "cell_type": "code",
   "execution_count": 27,
   "metadata": {},
   "outputs": [
    {
     "name": "stdout",
     "output_type": "stream",
     "text": [
      "accuracy 0.7521891418563923\n",
      "              precision    recall  f1-score   support\n",
      "\n",
      "           0       0.70      0.98      0.82      1305\n",
      "           1       0.94      0.45      0.61       979\n",
      "\n",
      "    accuracy                           0.75      2284\n",
      "   macro avg       0.82      0.71      0.71      2284\n",
      "weighted avg       0.80      0.75      0.73      2284\n",
      "\n"
     ]
    }
   ],
   "source": [
    "# SDG \n",
    "sgd = Pipeline([('vect', CountVectorizer()),\n",
    "                ('tfidf', TfidfTransformer()),\n",
    "                ('clf', SGDClassifier(loss='hinge', penalty='l2',alpha=1e-3, random_state=42, max_iter=5, tol=None)),\n",
    "               ])\n",
    "sgd.fit(X_train, y_train)\n",
    "\n",
    "y_pred = sgd.predict(X_test)\n",
    "\n",
    "print('accuracy %s' % accuracy_score(y_pred, y_test))\n",
    "print(classification_report(y_test, y_pred))"
   ]
  },
  {
   "cell_type": "code",
   "execution_count": 28,
   "metadata": {},
   "outputs": [
    {
     "name": "stdout",
     "output_type": "stream",
     "text": [
      "accuracy 0.7994746059544658\n",
      "              precision    recall  f1-score   support\n",
      "\n",
      "           0       0.77      0.92      0.84      1305\n",
      "           1       0.86      0.64      0.73       979\n",
      "\n",
      "    accuracy                           0.80      2284\n",
      "   macro avg       0.81      0.78      0.79      2284\n",
      "weighted avg       0.81      0.80      0.79      2284\n",
      "\n"
     ]
    }
   ],
   "source": [
    "# naive_bayes\n",
    "nb = Pipeline([('vect', CountVectorizer()),\n",
    "               ('tfidf', TfidfTransformer()),\n",
    "               ('clf', MultinomialNB()),\n",
    "              ])\n",
    "nb.fit(X_train, y_train)\n",
    "\n",
    "y_pred = nb.predict(X_test)\n",
    "\n",
    "print('accuracy %s' % accuracy_score(y_pred, y_test))\n",
    "print(classification_report(y_test, y_pred))"
   ]
  },
  {
   "cell_type": "code",
   "execution_count": null,
   "metadata": {},
   "outputs": [],
   "source": []
  },
  {
   "cell_type": "markdown",
   "metadata": {},
   "source": [
    "# Predict and Submit Final Model"
   ]
  },
  {
   "cell_type": "code",
   "execution_count": null,
   "metadata": {},
   "outputs": [],
   "source": [
    "predict=model.predict(test_input)\n",
    "print(predict)"
   ]
  },
  {
   "cell_type": "code",
   "execution_count": null,
   "metadata": {},
   "outputs": [],
   "source": [
    "predict=np.round(predict).astype(int).reshape(3263)\n",
    "sub=pd.DataFrame({'id':test['id'].values.tolist(),'target':predict})"
   ]
  },
  {
   "cell_type": "code",
   "execution_count": null,
   "metadata": {},
   "outputs": [],
   "source": [
    "sub.to_csv('DSKsubmission.csv', index=False)"
   ]
  },
  {
   "cell_type": "code",
   "execution_count": null,
   "metadata": {},
   "outputs": [],
   "source": [
    "!kaggle competitions submit -c nlp-getting-started -f DSKsubmission.csv -m 'DSK NLP with Keras'"
   ]
  },
  {
   "cell_type": "code",
   "execution_count": 0,
   "metadata": {
    "_cell_guid": "",
    "_uuid": ""
   },
   "outputs": [],
   "source": [
    "import pandas as pd\n",
    "sample_submission = pd.read_csv('../input/nlp-getting-started/sample_submission.csv')\n"
   ]
  }
 ],
 "metadata": {
  "kernelspec": {
   "display_name": "Python 3",
   "language": "python",
   "name": "python3"
  },
  "language_info": {
   "codemirror_mode": {
    "name": "ipython",
    "version": 3
   },
   "file_extension": ".py",
   "mimetype": "text/x-python",
   "name": "python",
   "nbconvert_exporter": "python",
   "pygments_lexer": "ipython3",
   "version": "3.7.4"
  }
 },
 "nbformat": 4,
 "nbformat_minor": 1
}
