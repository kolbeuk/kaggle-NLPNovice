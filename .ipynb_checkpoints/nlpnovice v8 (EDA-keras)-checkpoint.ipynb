{
 "cells": [
  {
   "cell_type": "code",
   "execution_count": 1,
   "metadata": {},
   "outputs": [
    {
     "name": "stderr",
     "output_type": "stream",
     "text": [
      "Using TensorFlow backend.\n"
     ]
    }
   ],
   "source": [
    "%matplotlib inline\n",
    "%config IPCompleter.greedy=True\n",
    "\n",
    "import string\n",
    "import numpy as np\n",
    "import pandas as pd\n",
    "import re\n",
    "\n",
    "import matplotlib.pyplot as plt\n",
    "\n",
    "from sklearn.feature_extraction.text import CountVectorizer,TfidfVectorizer\n",
    "from sklearn.model_selection import train_test_split\n",
    "from sklearn.preprocessing import LabelEncoder\n",
    "from sklearn.naive_bayes import MultinomialNB\n",
    "from sklearn.metrics import accuracy_score\n",
    "from sklearn.svm import SVC\n",
    "\n",
    "from tqdm import tqdm\n",
    "\n",
    "import tensorflow as tf\n",
    "from keras import layers\n",
    "from keras.models import Sequential\n",
    "from keras.constraints import maxnorm\n",
    "from keras.preprocessing.text import Tokenizer\n",
    "\n",
    "from tensorflow.keras.layers import Dense, Input, Layer, Dropout\n",
    "from tensorflow.keras.optimizers import Adam\n",
    "from tensorflow.keras import losses\n",
    "from tensorflow.keras.callbacks import ModelCheckpoint\n",
    "from keras.preprocessing import sequence\n",
    "from keras.preprocessing.sequence import pad_sequences\n",
    "import tensorflow_hub as hub\n",
    "\n",
    "import nltk\n",
    "import unicodedata\n",
    "from nltk.stem import WordNetLemmatizer\n",
    "from nltk.corpus import stopwords\n",
    "from nltk.corpus import wordnet\n",
    "from nltk.tokenize import word_tokenize\n",
    "from collections import defaultdict\n",
    "\n",
    "import warnings\n",
    "warnings.filterwarnings('ignore')"
   ]
  },
  {
   "cell_type": "code",
   "execution_count": 2,
   "metadata": {},
   "outputs": [
    {
     "name": "stderr",
     "output_type": "stream",
     "text": [
      "[nltk_data] Downloading package stopwords to\n",
      "[nltk_data]     /Users/davidkolb/nltk_data...\n",
      "[nltk_data]   Package stopwords is already up-to-date!\n",
      "[nltk_data] Downloading package punkt to /Users/davidkolb/nltk_data...\n",
      "[nltk_data]   Package punkt is already up-to-date!\n",
      "[nltk_data] Downloading package wordnet to\n",
      "[nltk_data]     /Users/davidkolb/nltk_data...\n",
      "[nltk_data]   Package wordnet is already up-to-date!\n",
      "[nltk_data] Downloading package averaged_perceptron_tagger to\n",
      "[nltk_data]     /Users/davidkolb/nltk_data...\n",
      "[nltk_data]   Package averaged_perceptron_tagger is already up-to-\n",
      "[nltk_data]       date!\n"
     ]
    }
   ],
   "source": [
    "nltk.download('stopwords')\n",
    "nltk.download('punkt')\n",
    "nltk.download('wordnet')\n",
    "nltk.download('averaged_perceptron_tagger')\n",
    "stop_words=set(stopwords.words('english'))"
   ]
  },
  {
   "cell_type": "code",
   "execution_count": 3,
   "metadata": {},
   "outputs": [],
   "source": [
    "test = pd.read_csv('../../data/nlpnovice/test.csv')\n",
    "train = pd.read_csv('../../data/nlpnovice/train.csv')\n",
    "np.random.seed(123)"
   ]
  },
  {
   "cell_type": "code",
   "execution_count": 4,
   "metadata": {},
   "outputs": [
    {
     "data": {
      "text/plain": [
       "(<bound method NDFrame.describe of          id keyword location  \\\n",
       " 0         1     NaN      NaN   \n",
       " 1         4     NaN      NaN   \n",
       " 2         5     NaN      NaN   \n",
       " 3         6     NaN      NaN   \n",
       " 4         7     NaN      NaN   \n",
       " ...     ...     ...      ...   \n",
       " 7608  10869     NaN      NaN   \n",
       " 7609  10870     NaN      NaN   \n",
       " 7610  10871     NaN      NaN   \n",
       " 7611  10872     NaN      NaN   \n",
       " 7612  10873     NaN      NaN   \n",
       " \n",
       "                                                    text  target  \n",
       " 0     Our Deeds are the Reason of this #earthquake M...       1  \n",
       " 1                Forest fire near La Ronge Sask. Canada       1  \n",
       " 2     All residents asked to 'shelter in place' are ...       1  \n",
       " 3     13,000 people receive #wildfires evacuation or...       1  \n",
       " 4     Just got sent this photo from Ruby #Alaska as ...       1  \n",
       " ...                                                 ...     ...  \n",
       " 7608  Two giant cranes holding a bridge collapse int...       1  \n",
       " 7609  @aria_ahrary @TheTawniest The out of control w...       1  \n",
       " 7610  M1.94 [01:04 UTC]?5km S of Volcano Hawaii. htt...       1  \n",
       " 7611  Police investigating after an e-bike collided ...       1  \n",
       " 7612  The Latest: More Homes Razed by Northern Calif...       1  \n",
       " \n",
       " [7613 rows x 5 columns]>,\n",
       " <bound method NDFrame.describe of          id keyword location  \\\n",
       " 0         0     NaN      NaN   \n",
       " 1         2     NaN      NaN   \n",
       " 2         3     NaN      NaN   \n",
       " 3         9     NaN      NaN   \n",
       " 4        11     NaN      NaN   \n",
       " ...     ...     ...      ...   \n",
       " 3258  10861     NaN      NaN   \n",
       " 3259  10865     NaN      NaN   \n",
       " 3260  10868     NaN      NaN   \n",
       " 3261  10874     NaN      NaN   \n",
       " 3262  10875     NaN      NaN   \n",
       " \n",
       "                                                    text  \n",
       " 0                    Just happened a terrible car crash  \n",
       " 1     Heard about #earthquake is different cities, s...  \n",
       " 2     there is a forest fire at spot pond, geese are...  \n",
       " 3              Apocalypse lighting. #Spokane #wildfires  \n",
       " 4         Typhoon Soudelor kills 28 in China and Taiwan  \n",
       " ...                                                 ...  \n",
       " 3258  EARTHQUAKE SAFETY LOS ANGELES ÛÒ SAFETY FASTE...  \n",
       " 3259  Storm in RI worse than last hurricane. My city...  \n",
       " 3260  Green Line derailment in Chicago http://t.co/U...  \n",
       " 3261  MEG issues Hazardous Weather Outlook (HWO) htt...  \n",
       " 3262  #CityofCalgary has activated its Municipal Eme...  \n",
       " \n",
       " [3263 rows x 4 columns]>)"
      ]
     },
     "execution_count": 4,
     "metadata": {},
     "output_type": "execute_result"
    }
   ],
   "source": [
    "train.describe, test.describe"
   ]
  },
  {
   "cell_type": "markdown",
   "metadata": {},
   "source": [
    "# Cleaing the Data"
   ]
  },
  {
   "cell_type": "code",
   "execution_count": 5,
   "metadata": {},
   "outputs": [],
   "source": [
    "def remove_whitespace(data):\n",
    "    return data.strip()"
   ]
  },
  {
   "cell_type": "code",
   "execution_count": 6,
   "metadata": {},
   "outputs": [],
   "source": [
    "def remove_URL(data):\n",
    "    url = re.compile(r'https?://\\S+|www\\.\\S+')\n",
    "    return url.sub(r'',data)"
   ]
  },
  {
   "cell_type": "code",
   "execution_count": 7,
   "metadata": {},
   "outputs": [],
   "source": [
    "def remove_html(data):\n",
    "    html=re.compile(r'<.*?>')\n",
    "    return html.sub(r'',data)"
   ]
  },
  {
   "cell_type": "code",
   "execution_count": 8,
   "metadata": {},
   "outputs": [],
   "source": [
    "def remove_emoji(data):\n",
    "    emoji_pattern = re.compile(\"[\"\n",
    "                           u\"\\U0001F600-\\U0001F64F\"  # emoticons\n",
    "                           u\"\\U0001F300-\\U0001F5FF\"  # symbols & pictographs\n",
    "                           u\"\\U0001F680-\\U0001F6FF\"  # transport & map symbols\n",
    "                           u\"\\U0001F1E0-\\U0001F1FF\"  # flags (iOS)\n",
    "                           u\"\\U00002702-\\U000027B0\"\n",
    "                           u\"\\U000024C2-\\U0001F251\"\n",
    "                           \"]+\", flags=re.UNICODE)\n",
    "    return emoji_pattern.sub(r'', data)"
   ]
  },
  {
   "cell_type": "code",
   "execution_count": 9,
   "metadata": {},
   "outputs": [],
   "source": [
    "def remove_accented_chars(data):\n",
    "    return unicodedata.normalize('NFKD', data).encode('ascii', 'ignore').decode('utf-8', 'ignore')"
   ]
  },
  {
   "cell_type": "code",
   "execution_count": 10,
   "metadata": {},
   "outputs": [],
   "source": [
    "def remove_punctuation(data):\n",
    "    table=str.maketrans('','',string.punctuation)\n",
    "    return data.translate(table)"
   ]
  },
  {
   "cell_type": "code",
   "execution_count": 11,
   "metadata": {},
   "outputs": [],
   "source": [
    "def single_char(data):\n",
    "    new_data=''\n",
    "    for w in data:\n",
    "        print(w)\n",
    "        if len(w) > 1:\n",
    "            print(w)\n",
    "            new_data = new_data +  \" \" + w\n",
    "    \n",
    "    return new_data"
   ]
  },
  {
   "cell_type": "code",
   "execution_count": 12,
   "metadata": {},
   "outputs": [],
   "source": [
    "def remove_special_characters(data, remove_digits=False):\n",
    "    pattern = r'[^a-zA-z0-9\\s]' if not remove_digits else r'[^a-zA-z\\s]'\n",
    "    data = re.sub(pattern, '', data)\n",
    "    return data"
   ]
  },
  {
   "cell_type": "code",
   "execution_count": 13,
   "metadata": {},
   "outputs": [],
   "source": [
    "def convert_lower_case(data):\n",
    "    return data.lower()"
   ]
  },
  {
   "cell_type": "code",
   "execution_count": 14,
   "metadata": {},
   "outputs": [],
   "source": [
    "def convert_numbers(data):\n",
    "    return re.sub(r'\\d+', '', data)"
   ]
  },
  {
   "cell_type": "code",
   "execution_count": 15,
   "metadata": {},
   "outputs": [],
   "source": [
    "def tokenise(data):\n",
    "    data = word_tokenize(data)\n",
    "    return data"
   ]
  },
  {
   "cell_type": "code",
   "execution_count": 16,
   "metadata": {},
   "outputs": [],
   "source": [
    "def remove_stop_words(data):\n",
    "    filtered_sentence = [w for w in data if not w in stop_words] \n",
    "    return filtered_sentence"
   ]
  },
  {
   "cell_type": "code",
   "execution_count": 17,
   "metadata": {},
   "outputs": [],
   "source": [
    "def stemming(data):\n",
    "    data.apply(lambda x: [stemmer.stem(e) for e in x])\n",
    "    return data"
   ]
  },
  {
   "cell_type": "code",
   "execution_count": 18,
   "metadata": {},
   "outputs": [],
   "source": [
    "def get_wordnet_pos(treebank_tag):\n",
    "\n",
    "    if treebank_tag.startswith('J'):\n",
    "        return wordnet.ADJ\n",
    "    elif treebank_tag.startswith('V'):\n",
    "        return wordnet.VERB\n",
    "    elif treebank_tag.startswith('N'):\n",
    "        return wordnet.NOUN\n",
    "    elif treebank_tag.startswith('R'):\n",
    "        return wordnet.ADV\n",
    "    else:\n",
    "        return None\n",
    "    \n",
    "def lemmatise(data):\n",
    "    lemmatized_sentence = []\n",
    "    lemmatizer = WordNetLemmatizer()\n",
    "    tagged =  nltk.pos_tag(data)\n",
    "    for word, tag in tagged:\n",
    "        wntag = get_wordnet_pos(tag)\n",
    "        if wntag is None:\n",
    "            lemmatized_sentence.append(word)\n",
    "        else:\n",
    "            lemmatized_sentence.append(lemmatizer.lemmatize(word, wntag))\n",
    "    return \" \".join(lemmatized_sentence) "
   ]
  },
  {
   "cell_type": "code",
   "execution_count": 19,
   "metadata": {},
   "outputs": [],
   "source": [
    "def nlp_clean(data):\n",
    "    data = remove_URL(data)\n",
    "    data = remove_html(data)\n",
    "    data = remove_emoji(data)\n",
    "    data = remove_whitespace(data)    \n",
    "    data = remove_accented_chars(data) \n",
    "    data = remove_special_characters(data)\n",
    "    data = remove_punctuation(data)\n",
    "    data = convert_lower_case(data)\n",
    "    data = convert_numbers(data)\n",
    "    return data\n",
    "    \n",
    "def nlp_tokenise(data):\n",
    "    stop_words = set(stopwords.words('english'))\n",
    "    data = tokenise(data)\n",
    "    data = remove_stop_words(data)\n",
    "    return data\n",
    "     \n",
    "def nlp_normalise(data):\n",
    "    stemmer = SnowballStemmer(\"english\")\n",
    "    data = stemming(data)\n",
    "    \n",
    "    return data"
   ]
  },
  {
   "cell_type": "code",
   "execution_count": 20,
   "metadata": {},
   "outputs": [],
   "source": [
    "# Run preprossing steps to clean data\n",
    "train['text']=train['text'].apply(lambda x : nlp_clean(x))\n",
    "test['text']=test['text'].apply(lambda x : nlp_clean(x))"
   ]
  },
  {
   "cell_type": "code",
   "execution_count": 21,
   "metadata": {},
   "outputs": [],
   "source": [
    "# Run steps to remove stop words\n",
    "train['text']=train['text'].apply(lambda x : nlp_tokenise(x))\n",
    "test['text']=test['text'].apply(lambda x : nlp_tokenise(x))"
   ]
  },
  {
   "cell_type": "code",
   "execution_count": 22,
   "metadata": {},
   "outputs": [
    {
     "data": {
      "text/plain": [
       "0       [deeds, reason, earthquake, may, allah, forgiv...\n",
       "1           [forest, fire, near, la, ronge, sask, canada]\n",
       "2       [residents, asked, shelter, place, notified, o...\n",
       "3       [people, receive, wildfires, evacuation, order...\n",
       "4       [got, sent, photo, ruby, alaska, smoke, wildfi...\n",
       "                              ...                        \n",
       "7608    [two, giant, cranes, holding, bridge, collapse...\n",
       "7609    [ariaahrary, thetawniest, control, wild, fires...\n",
       "7610                             [utckm, volcano, hawaii]\n",
       "7611    [police, investigating, ebike, collided, car, ...\n",
       "7612    [latest, homes, razed, northern, california, w...\n",
       "Name: text, Length: 7613, dtype: object"
      ]
     },
     "execution_count": 22,
     "metadata": {},
     "output_type": "execute_result"
    }
   ],
   "source": [
    "train['text']"
   ]
  },
  {
   "cell_type": "code",
   "execution_count": 23,
   "metadata": {},
   "outputs": [],
   "source": [
    "train['text']=train['text'].apply(lambda x : lemmatise(x))\n",
    "test['text']=test['text'].apply(lambda x : lemmatise(x))"
   ]
  },
  {
   "cell_type": "code",
   "execution_count": 24,
   "metadata": {},
   "outputs": [
    {
     "data": {
      "text/plain": [
       "0             deed reason earthquake may allah forgive us\n",
       "1                   forest fire near la ronge sask canada\n",
       "2       resident ask shelter place notify officer evac...\n",
       "3       people receive wildfire evacuation order calif...\n",
       "4       get sent photo ruby alaska smoke wildfires pou...\n",
       "                              ...                        \n",
       "7608     two giant crane hold bridge collapse nearby home\n",
       "7609    ariaahrary thetawniest control wild fire calif...\n",
       "7610                                 utckm volcano hawaii\n",
       "7611    police investigate ebike collide car little po...\n",
       "7612    late home raze northern california wildfire ab...\n",
       "Name: text, Length: 7613, dtype: object"
      ]
     },
     "execution_count": 24,
     "metadata": {},
     "output_type": "execute_result"
    }
   ],
   "source": [
    "train['text']"
   ]
  },
  {
   "cell_type": "code",
   "execution_count": 25,
   "metadata": {},
   "outputs": [],
   "source": [
    "train.to_csv('../../Data/NLPNovice/DSKtrain.csv', index=False)\n",
    "test.to_csv('../../Data/NLPNovice/DSKtest.csv', index=False)"
   ]
  },
  {
   "cell_type": "markdown",
   "metadata": {},
   "source": [
    "# Load pre cleaned text files"
   ]
  },
  {
   "cell_type": "code",
   "execution_count": 26,
   "metadata": {},
   "outputs": [
    {
     "data": {
      "text/plain": [
       "0             deed reason earthquake may allah forgive us\n",
       "1                   forest fire near la ronge sask canada\n",
       "2       resident ask shelter place notify officer evac...\n",
       "3       people receive wildfire evacuation order calif...\n",
       "4       get sent photo ruby alaska smoke wildfires pou...\n",
       "                              ...                        \n",
       "7608     two giant crane hold bridge collapse nearby home\n",
       "7609    ariaahrary thetawniest control wild fire calif...\n",
       "7610                                 utckm volcano hawaii\n",
       "7611    police investigate ebike collide car little po...\n",
       "7612    late home raze northern california wildfire ab...\n",
       "Name: text, Length: 7613, dtype: object"
      ]
     },
     "execution_count": 26,
     "metadata": {},
     "output_type": "execute_result"
    }
   ],
   "source": [
    "# Load pre cleaned text files\n",
    "# train = pd.read_csv('../../Data/NLPNovice/DSKtrain.csv')\n",
    "# test = pd.read_csv('../../Data/NLPNovice/DSKtest.csv')\n",
    "\n",
    "# # Convert text column from object to string\n",
    "train['text'] = train['text'].apply(lambda x : str(x))\n",
    "test['text'] = test['text'].apply(lambda x : str(x))\n",
    "\n",
    "train['text']"
   ]
  },
  {
   "cell_type": "markdown",
   "metadata": {},
   "source": [
    "# Basic Model preperation"
   ]
  },
  {
   "cell_type": "code",
   "execution_count": 27,
   "metadata": {},
   "outputs": [],
   "source": [
    "X_train, X_test, y_train, y_test = train_test_split(train['text'], train['target'], test_size=0.2, random_state=1000)\n",
    "\n",
    "validation = test['text']"
   ]
  },
  {
   "cell_type": "markdown",
   "metadata": {},
   "source": [
    "## Define word embedding"
   ]
  },
  {
   "cell_type": "code",
   "execution_count": 28,
   "metadata": {},
   "outputs": [],
   "source": [
    "# Label encode the target variable\n",
    "Encoder = LabelEncoder()\n",
    "y_train = Encoder.fit_transform(y_train)\n",
    "y_test = Encoder.fit_transform(y_test)"
   ]
  },
  {
   "cell_type": "code",
   "execution_count": 29,
   "metadata": {},
   "outputs": [
    {
     "data": {
      "text/plain": [
       "15072"
      ]
     },
     "execution_count": 29,
     "metadata": {},
     "output_type": "execute_result"
    }
   ],
   "source": [
    "tokenizer = Tokenizer(num_words=5000)\n",
    "tokenizer.fit_on_texts(train['text'])\n",
    "\n",
    "X_train = tokenizer.texts_to_sequences(X_train)\n",
    "X_test = tokenizer.texts_to_sequences(X_test)\n",
    "vocab_size = len(tokenizer.word_index) + 1\n",
    "validation = tokenizer.texts_to_sequences(test['text'])\n",
    "vocab_size"
   ]
  },
  {
   "cell_type": "code",
   "execution_count": 30,
   "metadata": {},
   "outputs": [],
   "source": [
    "# Create padding for Keras \n",
    "maxlen = 130\n",
    "embedding_dim = 32\n",
    "\n",
    "X_train = pad_sequences(X_train, padding='post', maxlen=maxlen)\n",
    "X_test = pad_sequences(X_test, padding='post', maxlen=maxlen)\n",
    "validation = pad_sequences(validation, padding='post', maxlen=maxlen)"
   ]
  },
  {
   "cell_type": "code",
   "execution_count": 42,
   "metadata": {},
   "outputs": [
    {
     "name": "stdout",
     "output_type": "stream",
     "text": [
      "WARNING:tensorflow:Large dropout rate: 0.7 (>0.5). In TensorFlow 2.x, dropout() uses dropout rate instead of keep_prob. Please ensure that this is intended.\n",
      "Model: \"sequential_4\"\n",
      "_________________________________________________________________\n",
      "Layer (type)                 Output Shape              Param #   \n",
      "=================================================================\n",
      "embedding_4 (Embedding)      (None, 130, 32)           482304    \n",
      "_________________________________________________________________\n",
      "flatten_4 (Flatten)          (None, 4160)              0         \n",
      "_________________________________________________________________\n",
      "dropout_5 (Dropout)          (None, 4160)              0         \n",
      "_________________________________________________________________\n",
      "dense_5 (Dense)              (None, 1)                 4161      \n",
      "=================================================================\n",
      "Total params: 486,465\n",
      "Trainable params: 486,465\n",
      "Non-trainable params: 0\n",
      "_________________________________________________________________\n"
     ]
    }
   ],
   "source": [
    "# Create the model\n",
    "\n",
    "model = Sequential()\n",
    "model.add(layers.Embedding(input_dim=vocab_size, \n",
    "                           output_dim=embedding_dim, \n",
    "                           input_length=maxlen))\n",
    "model.add(layers.Flatten())\n",
    "model.add(layers.Dropout(0.7))\n",
    "model.add(layers.Dense(1, activation='sigmoid'))\n",
    "\n",
    "model.compile(optimizer='rmsprop', loss='binary_crossentropy', metrics=['accuracy'])\n",
    "model.summary()"
   ]
  },
  {
   "cell_type": "code",
   "execution_count": 43,
   "metadata": {},
   "outputs": [
    {
     "name": "stdout",
     "output_type": "stream",
     "text": [
      "Train on 6090 samples, validate on 1523 samples\n",
      "Epoch 1/100\n",
      "6090/6090 [==============================] - 0s 64us/step - loss: 0.6852 - accuracy: 0.5550 - val_loss: 0.6784 - val_accuracy: 0.5785\n",
      "Epoch 2/100\n",
      "6090/6090 [==============================] - 0s 45us/step - loss: 0.6788 - accuracy: 0.5690 - val_loss: 0.6739 - val_accuracy: 0.5785\n",
      "Epoch 3/100\n",
      "6090/6090 [==============================] - 0s 43us/step - loss: 0.6743 - accuracy: 0.5704 - val_loss: 0.6696 - val_accuracy: 0.5785\n",
      "Epoch 4/100\n",
      "6090/6090 [==============================] - 0s 38us/step - loss: 0.6672 - accuracy: 0.5729 - val_loss: 0.6644 - val_accuracy: 0.5890\n",
      "Epoch 5/100\n",
      "6090/6090 [==============================] - 0s 41us/step - loss: 0.6589 - accuracy: 0.5890 - val_loss: 0.6572 - val_accuracy: 0.5942\n",
      "Epoch 6/100\n",
      "6090/6090 [==============================] - 0s 41us/step - loss: 0.6500 - accuracy: 0.6148 - val_loss: 0.6493 - val_accuracy: 0.6152\n",
      "Epoch 7/100\n",
      "6090/6090 [==============================] - 0s 39us/step - loss: 0.6388 - accuracy: 0.6594 - val_loss: 0.6420 - val_accuracy: 0.6060\n",
      "Epoch 8/100\n",
      "6090/6090 [==============================] - 0s 38us/step - loss: 0.6293 - accuracy: 0.6711 - val_loss: 0.6314 - val_accuracy: 0.6868\n",
      "Epoch 9/100\n",
      "6090/6090 [==============================] - 0s 39us/step - loss: 0.6166 - accuracy: 0.7177 - val_loss: 0.6219 - val_accuracy: 0.6645\n",
      "Epoch 10/100\n",
      "6090/6090 [==============================] - 0s 39us/step - loss: 0.6029 - accuracy: 0.7276 - val_loss: 0.6106 - val_accuracy: 0.7065\n",
      "Epoch 11/100\n",
      "6090/6090 [==============================] - 0s 39us/step - loss: 0.5893 - accuracy: 0.7516 - val_loss: 0.6002 - val_accuracy: 0.7341\n",
      "Epoch 12/100\n",
      "6090/6090 [==============================] - 0s 39us/step - loss: 0.5787 - accuracy: 0.7627 - val_loss: 0.5895 - val_accuracy: 0.7360\n",
      "Epoch 13/100\n",
      "6090/6090 [==============================] - 0s 39us/step - loss: 0.5629 - accuracy: 0.7796 - val_loss: 0.5790 - val_accuracy: 0.7498\n",
      "Epoch 14/100\n",
      "6090/6090 [==============================] - 0s 40us/step - loss: 0.5499 - accuracy: 0.7872 - val_loss: 0.5690 - val_accuracy: 0.7656\n",
      "Epoch 15/100\n",
      "6090/6090 [==============================] - 0s 39us/step - loss: 0.5351 - accuracy: 0.7966 - val_loss: 0.5582 - val_accuracy: 0.7584\n",
      "Epoch 16/100\n",
      "6090/6090 [==============================] - 0s 38us/step - loss: 0.5224 - accuracy: 0.7998 - val_loss: 0.5512 - val_accuracy: 0.7774\n",
      "Epoch 17/100\n",
      "6090/6090 [==============================] - 0s 39us/step - loss: 0.5078 - accuracy: 0.8182 - val_loss: 0.5403 - val_accuracy: 0.7820\n",
      "Epoch 18/100\n",
      "6090/6090 [==============================] - 0s 45us/step - loss: 0.4934 - accuracy: 0.8169 - val_loss: 0.5293 - val_accuracy: 0.7735\n",
      "Epoch 19/100\n",
      "6090/6090 [==============================] - 0s 40us/step - loss: 0.4811 - accuracy: 0.8233 - val_loss: 0.5205 - val_accuracy: 0.7820\n",
      "Epoch 20/100\n",
      "6090/6090 [==============================] - 0s 40us/step - loss: 0.4690 - accuracy: 0.8264 - val_loss: 0.5124 - val_accuracy: 0.7873\n",
      "Epoch 21/100\n",
      "6090/6090 [==============================] - 0s 39us/step - loss: 0.4560 - accuracy: 0.8360 - val_loss: 0.5043 - val_accuracy: 0.7879\n",
      "Epoch 22/100\n",
      "6090/6090 [==============================] - 0s 41us/step - loss: 0.4446 - accuracy: 0.8391 - val_loss: 0.4964 - val_accuracy: 0.7846\n",
      "Epoch 23/100\n",
      "6090/6090 [==============================] - 0s 41us/step - loss: 0.4349 - accuracy: 0.8409 - val_loss: 0.4900 - val_accuracy: 0.7984\n",
      "Epoch 24/100\n",
      "6090/6090 [==============================] - 0s 41us/step - loss: 0.4216 - accuracy: 0.8506 - val_loss: 0.4833 - val_accuracy: 0.7978\n",
      "Epoch 25/100\n",
      "6090/6090 [==============================] - 0s 41us/step - loss: 0.4142 - accuracy: 0.8489 - val_loss: 0.4778 - val_accuracy: 0.8017\n",
      "Epoch 26/100\n",
      "6090/6090 [==============================] - 0s 41us/step - loss: 0.4038 - accuracy: 0.8491 - val_loss: 0.4725 - val_accuracy: 0.8030\n",
      "Epoch 27/100\n",
      "6090/6090 [==============================] - 0s 42us/step - loss: 0.3938 - accuracy: 0.8563 - val_loss: 0.4674 - val_accuracy: 0.8011\n",
      "Epoch 28/100\n",
      "6090/6090 [==============================] - 0s 40us/step - loss: 0.3838 - accuracy: 0.8594 - val_loss: 0.4633 - val_accuracy: 0.8017\n",
      "Epoch 29/100\n",
      "6090/6090 [==============================] - 0s 38us/step - loss: 0.3748 - accuracy: 0.8627 - val_loss: 0.4604 - val_accuracy: 0.8043\n",
      "Epoch 30/100\n",
      "6090/6090 [==============================] - 0s 38us/step - loss: 0.3677 - accuracy: 0.8644 - val_loss: 0.4555 - val_accuracy: 0.8030\n",
      "Epoch 31/100\n",
      "6090/6090 [==============================] - 0s 41us/step - loss: 0.3591 - accuracy: 0.8690 - val_loss: 0.4522 - val_accuracy: 0.8024\n",
      "Epoch 32/100\n",
      "6090/6090 [==============================] - 0s 39us/step - loss: 0.3502 - accuracy: 0.8691 - val_loss: 0.4497 - val_accuracy: 0.8076\n",
      "Epoch 33/100\n",
      "6090/6090 [==============================] - 0s 38us/step - loss: 0.3434 - accuracy: 0.8698 - val_loss: 0.4472 - val_accuracy: 0.8076\n",
      "Epoch 34/100\n",
      "6090/6090 [==============================] - 0s 39us/step - loss: 0.3377 - accuracy: 0.8767 - val_loss: 0.4451 - val_accuracy: 0.8102\n",
      "Epoch 35/100\n",
      "6090/6090 [==============================] - 0s 39us/step - loss: 0.3323 - accuracy: 0.8773 - val_loss: 0.4432 - val_accuracy: 0.8116\n",
      "Epoch 36/100\n",
      "6090/6090 [==============================] - 0s 39us/step - loss: 0.3247 - accuracy: 0.8803 - val_loss: 0.4424 - val_accuracy: 0.8096\n",
      "Epoch 37/100\n",
      "6090/6090 [==============================] - 0s 38us/step - loss: 0.3210 - accuracy: 0.8793 - val_loss: 0.4408 - val_accuracy: 0.8109\n",
      "Epoch 38/100\n",
      "6090/6090 [==============================] - 0s 37us/step - loss: 0.3153 - accuracy: 0.8813 - val_loss: 0.4393 - val_accuracy: 0.8116\n",
      "Epoch 39/100\n",
      "6090/6090 [==============================] - 0s 37us/step - loss: 0.3087 - accuracy: 0.8841 - val_loss: 0.4392 - val_accuracy: 0.8063\n",
      "Epoch 40/100\n",
      "6090/6090 [==============================] - 0s 38us/step - loss: 0.3034 - accuracy: 0.8834 - val_loss: 0.4385 - val_accuracy: 0.8063\n",
      "Epoch 41/100\n",
      "6090/6090 [==============================] - 0s 39us/step - loss: 0.2965 - accuracy: 0.8898 - val_loss: 0.4378 - val_accuracy: 0.8096\n",
      "Epoch 42/100\n",
      "6090/6090 [==============================] - 0s 37us/step - loss: 0.2945 - accuracy: 0.8857 - val_loss: 0.4382 - val_accuracy: 0.8043\n",
      "Epoch 43/100\n",
      "6090/6090 [==============================] - 0s 38us/step - loss: 0.2863 - accuracy: 0.8949 - val_loss: 0.4372 - val_accuracy: 0.8096\n",
      "Epoch 44/100\n",
      "6090/6090 [==============================] - 0s 40us/step - loss: 0.2841 - accuracy: 0.8921 - val_loss: 0.4381 - val_accuracy: 0.8017\n",
      "Epoch 45/100\n",
      "6090/6090 [==============================] - 0s 38us/step - loss: 0.2775 - accuracy: 0.8946 - val_loss: 0.4378 - val_accuracy: 0.8056\n",
      "Epoch 46/100\n",
      "6090/6090 [==============================] - 0s 38us/step - loss: 0.2723 - accuracy: 0.8987 - val_loss: 0.4399 - val_accuracy: 0.7997\n",
      "Epoch 47/100\n",
      "6090/6090 [==============================] - 0s 37us/step - loss: 0.2681 - accuracy: 0.8980 - val_loss: 0.4386 - val_accuracy: 0.8037\n",
      "Epoch 48/100\n",
      "6090/6090 [==============================] - 0s 39us/step - loss: 0.2648 - accuracy: 0.8987 - val_loss: 0.4397 - val_accuracy: 0.8017\n",
      "Epoch 49/100\n",
      "6090/6090 [==============================] - 0s 38us/step - loss: 0.2606 - accuracy: 0.9011 - val_loss: 0.4407 - val_accuracy: 0.8017\n",
      "Epoch 50/100\n",
      "6090/6090 [==============================] - 0s 38us/step - loss: 0.2575 - accuracy: 0.9039 - val_loss: 0.4416 - val_accuracy: 0.8017\n",
      "Epoch 51/100\n",
      "6090/6090 [==============================] - 0s 38us/step - loss: 0.2537 - accuracy: 0.9057 - val_loss: 0.4421 - val_accuracy: 0.8017\n",
      "Epoch 52/100\n",
      "6090/6090 [==============================] - 0s 38us/step - loss: 0.2476 - accuracy: 0.9080 - val_loss: 0.4430 - val_accuracy: 0.8011\n",
      "Epoch 53/100\n",
      "6090/6090 [==============================] - 0s 40us/step - loss: 0.2460 - accuracy: 0.9054 - val_loss: 0.4444 - val_accuracy: 0.8017\n",
      "Epoch 54/100\n",
      "6090/6090 [==============================] - 0s 38us/step - loss: 0.2412 - accuracy: 0.9087 - val_loss: 0.4451 - val_accuracy: 0.8011\n",
      "Epoch 55/100\n",
      "6090/6090 [==============================] - 0s 39us/step - loss: 0.2359 - accuracy: 0.9107 - val_loss: 0.4470 - val_accuracy: 0.8011\n",
      "Epoch 56/100\n"
     ]
    },
    {
     "name": "stdout",
     "output_type": "stream",
     "text": [
      "6090/6090 [==============================] - 0s 38us/step - loss: 0.2359 - accuracy: 0.9136 - val_loss: 0.4476 - val_accuracy: 0.8011\n",
      "Epoch 57/100\n",
      "6090/6090 [==============================] - 0s 38us/step - loss: 0.2284 - accuracy: 0.9158 - val_loss: 0.4489 - val_accuracy: 0.8011\n",
      "Epoch 58/100\n",
      "6090/6090 [==============================] - 0s 37us/step - loss: 0.2301 - accuracy: 0.9136 - val_loss: 0.4503 - val_accuracy: 0.7997\n",
      "Epoch 59/100\n",
      "6090/6090 [==============================] - 0s 37us/step - loss: 0.2229 - accuracy: 0.9171 - val_loss: 0.4517 - val_accuracy: 0.7997\n",
      "Epoch 60/100\n",
      "6090/6090 [==============================] - 0s 36us/step - loss: 0.2221 - accuracy: 0.9190 - val_loss: 0.4538 - val_accuracy: 0.8011\n",
      "Epoch 61/100\n",
      "6090/6090 [==============================] - 0s 39us/step - loss: 0.2197 - accuracy: 0.9200 - val_loss: 0.4557 - val_accuracy: 0.8004\n",
      "Epoch 62/100\n",
      "6090/6090 [==============================] - 0s 36us/step - loss: 0.2149 - accuracy: 0.9213 - val_loss: 0.4569 - val_accuracy: 0.8004\n",
      "Epoch 63/100\n",
      "6090/6090 [==============================] - 0s 36us/step - loss: 0.2103 - accuracy: 0.9233 - val_loss: 0.4590 - val_accuracy: 0.7991\n",
      "Epoch 64/100\n",
      "6090/6090 [==============================] - 0s 37us/step - loss: 0.2069 - accuracy: 0.9236 - val_loss: 0.4595 - val_accuracy: 0.7991\n",
      "Epoch 65/100\n",
      "6090/6090 [==============================] - 0s 37us/step - loss: 0.2065 - accuracy: 0.9269 - val_loss: 0.4620 - val_accuracy: 0.7997\n",
      "Epoch 66/100\n",
      "6090/6090 [==============================] - 0s 37us/step - loss: 0.2045 - accuracy: 0.9248 - val_loss: 0.4633 - val_accuracy: 0.7991\n",
      "Epoch 67/100\n",
      "6090/6090 [==============================] - 0s 36us/step - loss: 0.2005 - accuracy: 0.9232 - val_loss: 0.4648 - val_accuracy: 0.7991\n",
      "Epoch 68/100\n",
      "6090/6090 [==============================] - 0s 36us/step - loss: 0.1958 - accuracy: 0.9300 - val_loss: 0.4674 - val_accuracy: 0.7951\n",
      "Epoch 69/100\n",
      "6090/6090 [==============================] - 0s 36us/step - loss: 0.1955 - accuracy: 0.9271 - val_loss: 0.4696 - val_accuracy: 0.7965\n",
      "Epoch 70/100\n",
      "6090/6090 [==============================] - 0s 37us/step - loss: 0.1916 - accuracy: 0.9319 - val_loss: 0.4713 - val_accuracy: 0.7971\n",
      "Epoch 71/100\n",
      "6090/6090 [==============================] - 0s 36us/step - loss: 0.1898 - accuracy: 0.9289 - val_loss: 0.4733 - val_accuracy: 0.7978\n",
      "Epoch 72/100\n",
      "6090/6090 [==============================] - 0s 37us/step - loss: 0.1883 - accuracy: 0.9317 - val_loss: 0.4749 - val_accuracy: 0.7978\n",
      "Epoch 73/100\n",
      "6090/6090 [==============================] - 0s 36us/step - loss: 0.1841 - accuracy: 0.9333 - val_loss: 0.4770 - val_accuracy: 0.7971\n",
      "Epoch 74/100\n",
      "6090/6090 [==============================] - 0s 36us/step - loss: 0.1823 - accuracy: 0.9378 - val_loss: 0.4793 - val_accuracy: 0.7945\n",
      "Epoch 75/100\n",
      "6090/6090 [==============================] - 0s 39us/step - loss: 0.1773 - accuracy: 0.9369 - val_loss: 0.4829 - val_accuracy: 0.7925\n",
      "Epoch 76/100\n",
      "6090/6090 [==============================] - 0s 36us/step - loss: 0.1744 - accuracy: 0.9404 - val_loss: 0.4842 - val_accuracy: 0.7919\n",
      "Epoch 77/100\n",
      "6090/6090 [==============================] - 0s 36us/step - loss: 0.1748 - accuracy: 0.9383 - val_loss: 0.4858 - val_accuracy: 0.7905\n",
      "Epoch 78/100\n",
      "6090/6090 [==============================] - 0s 36us/step - loss: 0.1728 - accuracy: 0.9401 - val_loss: 0.4885 - val_accuracy: 0.7912\n",
      "Epoch 79/100\n",
      "6090/6090 [==============================] - 0s 38us/step - loss: 0.1702 - accuracy: 0.9376 - val_loss: 0.4908 - val_accuracy: 0.7905\n",
      "Epoch 80/100\n",
      "6090/6090 [==============================] - 0s 37us/step - loss: 0.1694 - accuracy: 0.9402 - val_loss: 0.4933 - val_accuracy: 0.7905\n",
      "Epoch 81/100\n",
      "6090/6090 [==============================] - 0s 36us/step - loss: 0.1621 - accuracy: 0.9433 - val_loss: 0.4946 - val_accuracy: 0.7899\n",
      "Epoch 82/100\n",
      "6090/6090 [==============================] - 0s 36us/step - loss: 0.1649 - accuracy: 0.9406 - val_loss: 0.4972 - val_accuracy: 0.7892\n",
      "Epoch 83/100\n",
      "6090/6090 [==============================] - 0s 36us/step - loss: 0.1622 - accuracy: 0.9432 - val_loss: 0.4991 - val_accuracy: 0.7892\n",
      "Epoch 84/100\n",
      "6090/6090 [==============================] - 0s 37us/step - loss: 0.1589 - accuracy: 0.9430 - val_loss: 0.5017 - val_accuracy: 0.7886\n",
      "Epoch 85/100\n",
      "6090/6090 [==============================] - 0s 37us/step - loss: 0.1592 - accuracy: 0.9458 - val_loss: 0.5039 - val_accuracy: 0.7886\n",
      "Epoch 86/100\n",
      "6090/6090 [==============================] - 0s 36us/step - loss: 0.1543 - accuracy: 0.9458 - val_loss: 0.5060 - val_accuracy: 0.7873\n",
      "Epoch 87/100\n",
      "6090/6090 [==============================] - 0s 37us/step - loss: 0.1570 - accuracy: 0.9438 - val_loss: 0.5088 - val_accuracy: 0.7873\n",
      "Epoch 88/100\n",
      "6090/6090 [==============================] - 0s 38us/step - loss: 0.1532 - accuracy: 0.9476 - val_loss: 0.5114 - val_accuracy: 0.7873\n",
      "Epoch 89/100\n",
      "6090/6090 [==============================] - 0s 36us/step - loss: 0.1499 - accuracy: 0.9479 - val_loss: 0.5147 - val_accuracy: 0.7879\n",
      "Epoch 90/100\n",
      "6090/6090 [==============================] - 0s 36us/step - loss: 0.1487 - accuracy: 0.9509 - val_loss: 0.5164 - val_accuracy: 0.7866\n",
      "Epoch 91/100\n",
      "6090/6090 [==============================] - 0s 37us/step - loss: 0.1487 - accuracy: 0.9481 - val_loss: 0.5191 - val_accuracy: 0.7879\n",
      "Epoch 92/100\n",
      "6090/6090 [==============================] - 0s 37us/step - loss: 0.1466 - accuracy: 0.9466 - val_loss: 0.5220 - val_accuracy: 0.7879\n",
      "Epoch 93/100\n",
      "6090/6090 [==============================] - 0s 37us/step - loss: 0.1459 - accuracy: 0.9498 - val_loss: 0.5242 - val_accuracy: 0.7873\n",
      "Epoch 94/100\n",
      "6090/6090 [==============================] - 0s 37us/step - loss: 0.1463 - accuracy: 0.9481 - val_loss: 0.5260 - val_accuracy: 0.7859\n",
      "Epoch 95/100\n",
      "6090/6090 [==============================] - 0s 36us/step - loss: 0.1398 - accuracy: 0.9527 - val_loss: 0.5292 - val_accuracy: 0.7873\n",
      "Epoch 96/100\n",
      "6090/6090 [==============================] - 0s 36us/step - loss: 0.1370 - accuracy: 0.9519 - val_loss: 0.5316 - val_accuracy: 0.7846\n",
      "Epoch 97/100\n",
      "6090/6090 [==============================] - 0s 37us/step - loss: 0.1397 - accuracy: 0.9517 - val_loss: 0.5339 - val_accuracy: 0.7846\n",
      "Epoch 98/100\n",
      "6090/6090 [==============================] - 0s 36us/step - loss: 0.1344 - accuracy: 0.9532 - val_loss: 0.5364 - val_accuracy: 0.7827\n",
      "Epoch 99/100\n",
      "6090/6090 [==============================] - 0s 36us/step - loss: 0.1375 - accuracy: 0.9509 - val_loss: 0.5388 - val_accuracy: 0.7827\n",
      "Epoch 100/100\n",
      "6090/6090 [==============================] - 0s 36us/step - loss: 0.1359 - accuracy: 0.9529 - val_loss: 0.5407 - val_accuracy: 0.7840\n"
     ]
    }
   ],
   "source": [
    "epochs = 100\n",
    "batchsize = 1024\n",
    "history = model.fit(X_train, y_train,\n",
    "                    epochs=epochs,\n",
    "                    verbose=1,\n",
    "                    validation_data=(X_test, y_test),\n",
    "                    batch_size=batchsize)"
   ]
  },
  {
   "cell_type": "code",
   "execution_count": 44,
   "metadata": {},
   "outputs": [
    {
     "name": "stdout",
     "output_type": "stream",
     "text": [
      "Training Accuracy: 0.9647\n",
      "Testing Accuracy:  0.7840\n"
     ]
    }
   ],
   "source": [
    "loss, accuracy = model.evaluate(X_train, y_train, verbose=False)\n",
    "print(\"Training Accuracy: {:.4f}\".format(accuracy))\n",
    "loss, accuracy = model.evaluate(X_test, y_test, verbose=False)\n",
    "print(\"Testing Accuracy:  {:.4f}\".format(accuracy))\n",
    "history_dict = history.history"
   ]
  },
  {
   "cell_type": "markdown",
   "metadata": {},
   "source": [
    "# Plot Output"
   ]
  },
  {
   "cell_type": "code",
   "execution_count": 35,
   "metadata": {},
   "outputs": [
    {
     "data": {
      "image/png": "[encoded data removed]",
      "text/plain": [
       "<Figure size 432x288 with 1 Axes>"
      ]
     },
     "metadata": {
      "needs_background": "light"
     },
     "output_type": "display_data"
    }
   ],
   "source": [
    "history_dict = history.history\n",
    "acc = history_dict['accuracy']\n",
    "val_acc = history_dict['val_accuracy']\n",
    "loss = history_dict['loss']\n",
    "val_loss = history_dict['val_loss']\n",
    "\n",
    "epochs = range(1, len(acc) + 1)\n",
    "\n",
    "plt.plot(epochs, loss, label='Training loss')\n",
    "plt.plot(epochs, val_loss, label='Validation loss')\n",
    "plt.title('Training and validation loss')\n",
    "plt.xlabel('Epochs')\n",
    "plt.ylabel('Loss')\n",
    "plt.legend()\n",
    "\n",
    "plt.show()"
   ]
  },
  {
   "cell_type": "code",
   "execution_count": 36,
   "metadata": {},
   "outputs": [
    {
     "data": {
      "image/png": "[encoded data removed]",
      "text/plain": [
       "<Figure size 432x288 with 1 Axes>"
      ]
     },
     "metadata": {
      "needs_background": "light"
     },
     "output_type": "display_data"
    }
   ],
   "source": [
    "plt.clf() \n",
    "plt.plot(epochs, acc,  label='Training acc')\n",
    "plt.plot(epochs, val_acc, label='Validation acc')\n",
    "plt.title('Training and validation accuracy')\n",
    "plt.xlabel('Epochs')\n",
    "plt.ylabel('Accuracy')\n",
    "plt.legend()\n",
    "\n",
    "plt.show()"
   ]
  },
  {
   "cell_type": "code",
   "execution_count": 181,
   "metadata": {},
   "outputs": [
    {
     "name": "stdout",
     "output_type": "stream",
     "text": [
      "[[0.70622176]\n",
      " [0.87687695]\n",
      " [0.9933571 ]\n",
      " ...\n",
      " [0.98704   ]\n",
      " [0.9628095 ]\n",
      " [0.92682797]]\n"
     ]
    }
   ],
   "source": [
    "predict=model.predict(validation, batch_size=batchsize)\n",
    "print(predict)"
   ]
  },
  {
   "cell_type": "code",
   "execution_count": 149,
   "metadata": {},
   "outputs": [],
   "source": [
    "predict=np.round(predict).astype(int).reshape(3263)\n",
    "sub=pd.DataFrame({'id':test['id'].values.tolist(),'target':predict})"
   ]
  },
  {
   "cell_type": "code",
   "execution_count": 405,
   "metadata": {},
   "outputs": [],
   "source": [
    "sub.to_csv('DSKsubmission.csv', index=False)"
   ]
  },
  {
   "cell_type": "code",
   "execution_count": 406,
   "metadata": {},
   "outputs": [
    {
     "data": {
      "text/html": [
       "<div>\n",
       "<style scoped>\n",
       "    .dataframe tbody tr th:only-of-type {\n",
       "        vertical-align: middle;\n",
       "    }\n",
       "\n",
       "    .dataframe tbody tr th {\n",
       "        vertical-align: top;\n",
       "    }\n",
       "\n",
       "    .dataframe thead th {\n",
       "        text-align: right;\n",
       "    }\n",
       "</style>\n",
       "<table border=\"1\" class=\"dataframe\">\n",
       "  <thead>\n",
       "    <tr style=\"text-align: right;\">\n",
       "      <th></th>\n",
       "      <th>id</th>\n",
       "      <th>target</th>\n",
       "    </tr>\n",
       "  </thead>\n",
       "  <tbody>\n",
       "    <tr>\n",
       "      <th>0</th>\n",
       "      <td>0</td>\n",
       "      <td>1</td>\n",
       "    </tr>\n",
       "    <tr>\n",
       "      <th>1</th>\n",
       "      <td>2</td>\n",
       "      <td>1</td>\n",
       "    </tr>\n",
       "    <tr>\n",
       "      <th>2</th>\n",
       "      <td>3</td>\n",
       "      <td>1</td>\n",
       "    </tr>\n",
       "    <tr>\n",
       "      <th>3</th>\n",
       "      <td>9</td>\n",
       "      <td>0</td>\n",
       "    </tr>\n",
       "    <tr>\n",
       "      <th>4</th>\n",
       "      <td>11</td>\n",
       "      <td>1</td>\n",
       "    </tr>\n",
       "    <tr>\n",
       "      <th>...</th>\n",
       "      <td>...</td>\n",
       "      <td>...</td>\n",
       "    </tr>\n",
       "    <tr>\n",
       "      <th>3258</th>\n",
       "      <td>10861</td>\n",
       "      <td>1</td>\n",
       "    </tr>\n",
       "    <tr>\n",
       "      <th>3259</th>\n",
       "      <td>10865</td>\n",
       "      <td>1</td>\n",
       "    </tr>\n",
       "    <tr>\n",
       "      <th>3260</th>\n",
       "      <td>10868</td>\n",
       "      <td>1</td>\n",
       "    </tr>\n",
       "    <tr>\n",
       "      <th>3261</th>\n",
       "      <td>10874</td>\n",
       "      <td>1</td>\n",
       "    </tr>\n",
       "    <tr>\n",
       "      <th>3262</th>\n",
       "      <td>10875</td>\n",
       "      <td>1</td>\n",
       "    </tr>\n",
       "  </tbody>\n",
       "</table>\n",
       "<p>3263 rows × 2 columns</p>\n",
       "</div>"
      ],
      "text/plain": [
       "         id  target\n",
       "0         0       1\n",
       "1         2       1\n",
       "2         3       1\n",
       "3         9       0\n",
       "4        11       1\n",
       "...     ...     ...\n",
       "3258  10861       1\n",
       "3259  10865       1\n",
       "3260  10868       1\n",
       "3261  10874       1\n",
       "3262  10875       1\n",
       "\n",
       "[3263 rows x 2 columns]"
      ]
     },
     "execution_count": 406,
     "metadata": {},
     "output_type": "execute_result"
    }
   ],
   "source": [
    "sub"
   ]
  },
  {
   "cell_type": "code",
   "execution_count": null,
   "metadata": {},
   "outputs": [],
   "source": []
  },
  {
   "cell_type": "code",
   "execution_count": 0,
   "metadata": {
    "_cell_guid": "",
    "_uuid": ""
   },
   "outputs": [],
   "source": [
    "import pandas as pd\n",
    "sample_submission = pd.read_csv(\"../input/nlp-getting-started/sample_submission.csv\")\n"
   ]
  },
  {
   "cell_type": "code",
   "execution_count": 109,
   "metadata": {},
   "outputs": [],
   "source": [
    "\n",
    "# LSTM for sequence classification in the IMDB dataset\n",
    "import numpy\n",
    "from keras.datasets import imdb\n",
    "from keras.models import Sequential\n",
    "from keras.layers import Dense\n",
    "from keras.layers import LSTM\n",
    "from keras.layers.embeddings import Embedding\n",
    "from keras.preprocessing import sequence\n",
    "# fix random seed for reproducibility\n",
    "numpy.random.seed(7)\n",
    "# load the dataset but only keep the top n words, zero the rest\n",
    "top_words = 5000\n",
    "(X_train, y_train), (X_test, y_test) = imdb.load_data(num_words=top_words)"
   ]
  },
  {
   "cell_type": "code",
   "execution_count": 110,
   "metadata": {},
   "outputs": [
    {
     "data": {
      "text/plain": [
       "array([list([1, 14, 22, 16, 43, 530, 973, 1622, 1385, 65, 458, 4468, 66, 3941, 4, 173, 36, 256, 5, 25, 100, 43, 838, 112, 50, 670, 2, 9, 35, 480, 284, 5, 150, 4, 172, 112, 167, 2, 336, 385, 39, 4, 172, 4536, 1111, 17, 546, 38, 13, 447, 4, 192, 50, 16, 6, 147, 2025, 19, 14, 22, 4, 1920, 4613, 469, 4, 22, 71, 87, 12, 16, 43, 530, 38, 76, 15, 13, 1247, 4, 22, 17, 515, 17, 12, 16, 626, 18, 2, 5, 62, 386, 12, 8, 316, 8, 106, 5, 4, 2223, 2, 16, 480, 66, 3785, 33, 4, 130, 12, 16, 38, 619, 5, 25, 124, 51, 36, 135, 48, 25, 1415, 33, 6, 22, 12, 215, 28, 77, 52, 5, 14, 407, 16, 82, 2, 8, 4, 107, 117, 2, 15, 256, 4, 2, 7, 3766, 5, 723, 36, 71, 43, 530, 476, 26, 400, 317, 46, 7, 4, 2, 1029, 13, 104, 88, 4, 381, 15, 297, 98, 32, 2071, 56, 26, 141, 6, 194, 2, 18, 4, 226, 22, 21, 134, 476, 26, 480, 5, 144, 30, 2, 18, 51, 36, 28, 224, 92, 25, 104, 4, 226, 65, 16, 38, 1334, 88, 12, 16, 283, 5, 16, 4472, 113, 103, 32, 15, 16, 2, 19, 178, 32]),\n",
       "       list([1, 194, 1153, 194, 2, 78, 228, 5, 6, 1463, 4369, 2, 134, 26, 4, 715, 8, 118, 1634, 14, 394, 20, 13, 119, 954, 189, 102, 5, 207, 110, 3103, 21, 14, 69, 188, 8, 30, 23, 7, 4, 249, 126, 93, 4, 114, 9, 2300, 1523, 5, 647, 4, 116, 9, 35, 2, 4, 229, 9, 340, 1322, 4, 118, 9, 4, 130, 4901, 19, 4, 1002, 5, 89, 29, 952, 46, 37, 4, 455, 9, 45, 43, 38, 1543, 1905, 398, 4, 1649, 26, 2, 5, 163, 11, 3215, 2, 4, 1153, 9, 194, 775, 7, 2, 2, 349, 2637, 148, 605, 2, 2, 15, 123, 125, 68, 2, 2, 15, 349, 165, 4362, 98, 5, 4, 228, 9, 43, 2, 1157, 15, 299, 120, 5, 120, 174, 11, 220, 175, 136, 50, 9, 4373, 228, 2, 5, 2, 656, 245, 2350, 5, 4, 2, 131, 152, 491, 18, 2, 32, 2, 1212, 14, 9, 6, 371, 78, 22, 625, 64, 1382, 9, 8, 168, 145, 23, 4, 1690, 15, 16, 4, 1355, 5, 28, 6, 52, 154, 462, 33, 89, 78, 285, 16, 145, 95]),\n",
       "       list([1, 14, 47, 8, 30, 31, 7, 4, 249, 108, 7, 4, 2, 54, 61, 369, 13, 71, 149, 14, 22, 112, 4, 2401, 311, 12, 16, 3711, 33, 75, 43, 1829, 296, 4, 86, 320, 35, 534, 19, 263, 4821, 1301, 4, 1873, 33, 89, 78, 12, 66, 16, 4, 360, 7, 4, 58, 316, 334, 11, 4, 1716, 43, 645, 662, 8, 257, 85, 1200, 42, 1228, 2578, 83, 68, 3912, 15, 36, 165, 1539, 278, 36, 69, 2, 780, 8, 106, 14, 2, 1338, 18, 6, 22, 12, 215, 28, 610, 40, 6, 87, 326, 23, 2300, 21, 23, 22, 12, 272, 40, 57, 31, 11, 4, 22, 47, 6, 2307, 51, 9, 170, 23, 595, 116, 595, 1352, 13, 191, 79, 638, 89, 2, 14, 9, 8, 106, 607, 624, 35, 534, 6, 227, 7, 129, 113]),\n",
       "       ...,\n",
       "       list([1, 11, 6, 230, 245, 2, 9, 6, 1225, 446, 2, 45, 2174, 84, 2, 4007, 21, 4, 912, 84, 2, 325, 725, 134, 2, 1715, 84, 5, 36, 28, 57, 1099, 21, 8, 140, 8, 703, 5, 2, 84, 56, 18, 1644, 14, 9, 31, 7, 4, 2, 1209, 2295, 2, 1008, 18, 6, 20, 207, 110, 563, 12, 8, 2901, 2, 8, 97, 6, 20, 53, 4767, 74, 4, 460, 364, 1273, 29, 270, 11, 960, 108, 45, 40, 29, 2961, 395, 11, 6, 4065, 500, 7, 2, 89, 364, 70, 29, 140, 4, 64, 4780, 11, 4, 2678, 26, 178, 4, 529, 443, 2, 5, 27, 710, 117, 2, 2, 165, 47, 84, 37, 131, 818, 14, 595, 10, 10, 61, 1242, 1209, 10, 10, 288, 2260, 1702, 34, 2901, 2, 4, 65, 496, 4, 231, 7, 790, 5, 6, 320, 234, 2766, 234, 1119, 1574, 7, 496, 4, 139, 929, 2901, 2, 2, 5, 4241, 18, 4, 2, 2, 250, 11, 1818, 2, 4, 4217, 2, 747, 1115, 372, 1890, 1006, 541, 2, 7, 4, 59, 2, 4, 3586, 2]),\n",
       "       list([1, 1446, 2, 69, 72, 3305, 13, 610, 930, 8, 12, 582, 23, 5, 16, 484, 685, 54, 349, 11, 4120, 2959, 45, 58, 1466, 13, 197, 12, 16, 43, 23, 2, 5, 62, 30, 145, 402, 11, 4131, 51, 575, 32, 61, 369, 71, 66, 770, 12, 1054, 75, 100, 2198, 8, 4, 105, 37, 69, 147, 712, 75, 3543, 44, 257, 390, 5, 69, 263, 514, 105, 50, 286, 1814, 23, 4, 123, 13, 161, 40, 5, 421, 4, 116, 16, 897, 13, 2, 40, 319, 2, 112, 2, 11, 4803, 121, 25, 70, 3468, 4, 719, 3798, 13, 18, 31, 62, 40, 8, 2, 4, 2, 7, 14, 123, 5, 942, 25, 8, 721, 12, 145, 5, 202, 12, 160, 580, 202, 12, 6, 52, 58, 2, 92, 401, 728, 12, 39, 14, 251, 8, 15, 251, 5, 2, 12, 38, 84, 80, 124, 12, 9, 23]),\n",
       "       list([1, 17, 6, 194, 337, 7, 4, 204, 22, 45, 254, 8, 106, 14, 123, 4, 2, 270, 2, 5, 2, 2, 732, 2098, 101, 405, 39, 14, 1034, 4, 1310, 9, 115, 50, 305, 12, 47, 4, 168, 5, 235, 7, 38, 111, 699, 102, 7, 4, 4039, 2, 9, 24, 6, 78, 1099, 17, 2345, 2, 21, 27, 2, 2, 5, 2, 1603, 92, 1183, 4, 1310, 7, 4, 204, 42, 97, 90, 35, 221, 109, 29, 127, 27, 118, 8, 97, 12, 157, 21, 2, 2, 9, 6, 66, 78, 1099, 4, 631, 1191, 5, 2642, 272, 191, 1070, 6, 2, 8, 2197, 2, 2, 544, 5, 383, 1271, 848, 1468, 2, 497, 2, 8, 1597, 2, 2, 21, 60, 27, 239, 9, 43, 2, 209, 405, 10, 10, 12, 764, 40, 4, 248, 20, 12, 16, 5, 174, 1791, 72, 7, 51, 6, 1739, 22, 4, 204, 131, 9])],\n",
       "      dtype=object)"
      ]
     },
     "execution_count": 110,
     "metadata": {},
     "output_type": "execute_result"
    }
   ],
   "source": []
  },
  {
   "cell_type": "code",
   "execution_count": null,
   "metadata": {},
   "outputs": [],
   "source": []
  }
 ],
 "metadata": {
  "kernelspec": {
   "display_name": "Python 3",
   "language": "python",
   "name": "python3"
  },
  "language_info": {
   "codemirror_mode": {
    "name": "ipython",
    "version": 3
   },
   "file_extension": ".py",
   "mimetype": "text/x-python",
   "name": "python",
   "nbconvert_exporter": "python",
   "pygments_lexer": "ipython3",
   "version": "3.7.6"
  }
 },
 "nbformat": 4,
 "nbformat_minor": 1
}
