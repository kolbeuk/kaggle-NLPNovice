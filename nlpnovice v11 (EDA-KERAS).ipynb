{
 "cells": [
  {
   "cell_type": "code",
   "execution_count": null,
   "metadata": {},
   "outputs": [],
   "source": [
    "!pip install bert-for-tf2"
   ]
  },
  {
   "cell_type": "code",
   "execution_count": 34,
   "metadata": {},
   "outputs": [],
   "source": [
    "%matplotlib inline\n",
    "%config IPCompleter.greedy=True\n",
    "\n",
    "import string\n",
    "import numpy as np\n",
    "import pandas as pd\n",
    "import re\n",
    "\n",
    "import matplotlib.pyplot as plt\n",
    "\n",
    "from tqdm import tqdm\n",
    "\n",
    "import tensorflow as tf\n",
    "import tensorflow_hub as hub\n",
    "from tensorflow import keras\n",
    "\n",
    "from tensorflow.keras.layers import Dense, Input, Dropout, BatchNormalization\n",
    "from tensorflow.keras.optimizers import Adam,Nadam,SGD\n",
    "from tensorflow.keras.models import Model\n",
    "from tensorflow.keras import losses\n",
    "from tensorflow.keras.callbacks import ModelCheckpoint\n",
    "\n",
    "from keras.constraints import unit_norm\n",
    "\n",
    "import bert\n",
    "import bert_tokenizer as tokenizer\n",
    "\n",
    "import nltk\n",
    "import unicodedata\n",
    "from nltk.corpus import stopwords\n",
    "from nltk.tokenize import word_tokenize\n",
    "from collections import defaultdict\n",
    "\n",
    "import warnings\n",
    "warnings.filterwarnings('ignore')"
   ]
  },
  {
   "cell_type": "code",
   "execution_count": 35,
   "metadata": {},
   "outputs": [
    {
     "name": "stderr",
     "output_type": "stream",
     "text": [
      "[nltk_data] Downloading package stopwords to\n",
      "[nltk_data]     /Users/davidkolb/nltk_data...\n",
      "[nltk_data]   Package stopwords is already up-to-date!\n"
     ]
    }
   ],
   "source": [
    "nltk.download('stopwords')\n",
    "stop_words=set(stopwords.words('english'))"
   ]
  },
  {
   "cell_type": "code",
   "execution_count": 36,
   "metadata": {},
   "outputs": [],
   "source": [
    "test = pd.read_csv('../../data/nlpnovice/test.csv')\n",
    "train = pd.read_csv('../../data/nlpnovice/train.csv')\n"
   ]
  },
  {
   "cell_type": "code",
   "execution_count": 37,
   "metadata": {},
   "outputs": [
    {
     "data": {
      "text/plain": [
       "(<bound method NDFrame.describe of          id keyword location  \\\n",
       " 0         1     NaN      NaN   \n",
       " 1         4     NaN      NaN   \n",
       " 2         5     NaN      NaN   \n",
       " 3         6     NaN      NaN   \n",
       " 4         7     NaN      NaN   \n",
       " ...     ...     ...      ...   \n",
       " 7608  10869     NaN      NaN   \n",
       " 7609  10870     NaN      NaN   \n",
       " 7610  10871     NaN      NaN   \n",
       " 7611  10872     NaN      NaN   \n",
       " 7612  10873     NaN      NaN   \n",
       " \n",
       "                                                    text  target  \n",
       " 0     Our Deeds are the Reason of this #earthquake M...       1  \n",
       " 1                Forest fire near La Ronge Sask. Canada       1  \n",
       " 2     All residents asked to 'shelter in place' are ...       1  \n",
       " 3     13,000 people receive #wildfires evacuation or...       1  \n",
       " 4     Just got sent this photo from Ruby #Alaska as ...       1  \n",
       " ...                                                 ...     ...  \n",
       " 7608  Two giant cranes holding a bridge collapse int...       1  \n",
       " 7609  @aria_ahrary @TheTawniest The out of control w...       1  \n",
       " 7610  M1.94 [01:04 UTC]?5km S of Volcano Hawaii. htt...       1  \n",
       " 7611  Police investigating after an e-bike collided ...       1  \n",
       " 7612  The Latest: More Homes Razed by Northern Calif...       1  \n",
       " \n",
       " [7613 rows x 5 columns]>,\n",
       " <bound method NDFrame.describe of          id keyword location  \\\n",
       " 0         0     NaN      NaN   \n",
       " 1         2     NaN      NaN   \n",
       " 2         3     NaN      NaN   \n",
       " 3         9     NaN      NaN   \n",
       " 4        11     NaN      NaN   \n",
       " ...     ...     ...      ...   \n",
       " 3258  10861     NaN      NaN   \n",
       " 3259  10865     NaN      NaN   \n",
       " 3260  10868     NaN      NaN   \n",
       " 3261  10874     NaN      NaN   \n",
       " 3262  10875     NaN      NaN   \n",
       " \n",
       "                                                    text  \n",
       " 0                    Just happened a terrible car crash  \n",
       " 1     Heard about #earthquake is different cities, s...  \n",
       " 2     there is a forest fire at spot pond, geese are...  \n",
       " 3              Apocalypse lighting. #Spokane #wildfires  \n",
       " 4         Typhoon Soudelor kills 28 in China and Taiwan  \n",
       " ...                                                 ...  \n",
       " 3258  EARTHQUAKE SAFETY LOS ANGELES ÛÒ SAFETY FASTE...  \n",
       " 3259  Storm in RI worse than last hurricane. My city...  \n",
       " 3260  Green Line derailment in Chicago http://t.co/U...  \n",
       " 3261  MEG issues Hazardous Weather Outlook (HWO) htt...  \n",
       " 3262  #CityofCalgary has activated its Municipal Eme...  \n",
       " \n",
       " [3263 rows x 4 columns]>)"
      ]
     },
     "execution_count": 37,
     "metadata": {},
     "output_type": "execute_result"
    }
   ],
   "source": [
    "train.describe, test.describe"
   ]
  },
  {
   "cell_type": "markdown",
   "metadata": {},
   "source": [
    "# Cleaing the Data"
   ]
  },
  {
   "cell_type": "code",
   "execution_count": 38,
   "metadata": {},
   "outputs": [],
   "source": [
    "def remove_whitespace(data):\n",
    "    return data.strip()"
   ]
  },
  {
   "cell_type": "code",
   "execution_count": 39,
   "metadata": {},
   "outputs": [],
   "source": [
    "def remove_URL(data):\n",
    "    url = re.compile(r'https?://\\S+|www\\.\\S+')\n",
    "    return url.sub(r'',data)"
   ]
  },
  {
   "cell_type": "code",
   "execution_count": 40,
   "metadata": {},
   "outputs": [],
   "source": [
    "def remove_html(data):\n",
    "    html=re.compile(r'<.*?>')\n",
    "    return html.sub(r'',data)"
   ]
  },
  {
   "cell_type": "code",
   "execution_count": 41,
   "metadata": {},
   "outputs": [],
   "source": [
    "def remove_emoji(data):\n",
    "    emoji_pattern = re.compile('['\n",
    "                           u'\\U0001F600-\\U0001F64F'  # emoticons\n",
    "                           u'\\U0001F300-\\U0001F5FF'  # symbols & pictographs\n",
    "                           u'\\U0001F680-\\U0001F6FF'  # transport & map symbols\n",
    "                           u'\\U0001F1E0-\\U0001F1FF'  # flags (iOS)\n",
    "                           u'\\U00002702-\\U000027B0'\n",
    "                           u'\\U000024C2-\\U0001F251'\n",
    "                           ']+', flags=re.UNICODE)\n",
    "    return emoji_pattern.sub(r'', data)"
   ]
  },
  {
   "cell_type": "code",
   "execution_count": 42,
   "metadata": {},
   "outputs": [],
   "source": [
    "def remove_accented_chars(data):\n",
    "    return unicodedata.normalize('NFKD', data).encode('ascii', 'ignore').decode('utf-8', 'ignore')"
   ]
  },
  {
   "cell_type": "code",
   "execution_count": 43,
   "metadata": {},
   "outputs": [],
   "source": [
    "def remove_punctuation(data):\n",
    "    table=str.maketrans('','',string.punctuation)\n",
    "    return data.translate(table)"
   ]
  },
  {
   "cell_type": "code",
   "execution_count": 44,
   "metadata": {},
   "outputs": [],
   "source": [
    "def single_char(data):\n",
    "    new_data=''\n",
    "    for w in data:\n",
    "        print(w)\n",
    "        if len(w) > 1:\n",
    "            print(w)\n",
    "            new_data = new_data +  ' ' + w\n",
    "    \n",
    "    return new_data"
   ]
  },
  {
   "cell_type": "code",
   "execution_count": 45,
   "metadata": {},
   "outputs": [],
   "source": [
    "def remove_special_characters(data, remove_digits=False):\n",
    "    pattern = r'[^a-zA-z0-9\\s]' if not remove_digits else r'[^a-zA-z\\s]'\n",
    "    data = re.sub(pattern, '', data)\n",
    "    return data"
   ]
  },
  {
   "cell_type": "code",
   "execution_count": 46,
   "metadata": {},
   "outputs": [],
   "source": [
    "def convert_lower_case(data):\n",
    "    return data.lower()"
   ]
  },
  {
   "cell_type": "code",
   "execution_count": 47,
   "metadata": {},
   "outputs": [],
   "source": [
    "def tokenise(data):\n",
    "    data = word_tokenize(data)\n",
    "    return data"
   ]
  },
  {
   "cell_type": "code",
   "execution_count": 48,
   "metadata": {},
   "outputs": [],
   "source": [
    "def remove_stop_words(data):\n",
    "    filtered_sentence = [w for w in data if not w in stop_words] \n",
    "    return filtered_sentence"
   ]
  },
  {
   "cell_type": "code",
   "execution_count": 49,
   "metadata": {},
   "outputs": [],
   "source": [
    "def stemming(data):\n",
    "    data.apply(lambda x: [stemmer.stem(e) for e in x])\n",
    "    return data"
   ]
  },
  {
   "cell_type": "code",
   "execution_count": 50,
   "metadata": {},
   "outputs": [],
   "source": [
    "def lemmatise(data):\n",
    "    lemmatizer = WordNetLemmatizer()\n",
    "    data.apply(lambda x: [lemmatizer.lemmatize(e) for e in x])\n",
    "    return data "
   ]
  },
  {
   "cell_type": "code",
   "execution_count": 51,
   "metadata": {},
   "outputs": [],
   "source": [
    "def nlp_clean(data):\n",
    "    data = remove_URL(data)\n",
    "    data = remove_html(data)\n",
    "    data = remove_emoji(data)\n",
    "    data = remove_whitespace(data)    \n",
    "    data = remove_accented_chars(data) \n",
    "    data = remove_special_characters(data)\n",
    "    data = remove_punctuation(data)\n",
    "    data = convert_lower_case(data)\n",
    "    return data\n",
    "    \n",
    "def nlp_tokenise(data):\n",
    "    stop_words = set(stopwords.words('english'))\n",
    "    data = tokenise(data)\n",
    "    data = remove_stop_words(data)\n",
    "    return data\n",
    "     \n",
    "def nlp_normalise(data):\n",
    "    stemmer = SnowballStemmer('english')\n",
    "    data = stemming(data)\n",
    "    data = lemmatise(data)\n",
    "    return data"
   ]
  },
  {
   "cell_type": "code",
   "execution_count": 52,
   "metadata": {},
   "outputs": [],
   "source": [
    "# Run preprossing steps to clean data\n",
    "train['text']=train['text'].apply(lambda x : nlp_clean(x))\n",
    "test['text']=test['text'].apply(lambda x : nlp_clean(x))"
   ]
  },
  {
   "cell_type": "code",
   "execution_count": 53,
   "metadata": {},
   "outputs": [],
   "source": [
    "# Run steps to remove stop words\n",
    "train['text']=train['text'].apply(lambda x : nlp_tokenise(x))\n",
    "test['text']=test['text'].apply(lambda x : nlp_tokenise(x))"
   ]
  },
  {
   "cell_type": "code",
   "execution_count": 54,
   "metadata": {},
   "outputs": [],
   "source": [
    "# rejoin Data after tokenisation \n",
    "def combine_text(list_of_text):\n",
    "    combined_text = ''\n",
    "    for word in list_of_text:\n",
    "        combined_text = combined_text + ' ' + word\n",
    "    return combined_text"
   ]
  },
  {
   "cell_type": "code",
   "execution_count": 55,
   "metadata": {},
   "outputs": [],
   "source": [
    "train['text'] = train['text'].apply(lambda x : combine_text(x))\n",
    "test['text'] = test['text'].apply(lambda x : combine_text(x))"
   ]
  },
  {
   "cell_type": "code",
   "execution_count": 56,
   "metadata": {},
   "outputs": [
    {
     "data": {
      "text/plain": [
       "0          deeds reason earthquake may allah forgive us\n",
       "1                 forest fire near la ronge sask canada\n",
       "2      residents asked shelter place notified office...\n",
       "3      13000 people receive wildfires evacuation ord...\n",
       "4      got sent photo ruby alaska smoke wildfires po...\n",
       "5      rockyfire update california hwy 20 closed dir...\n",
       "6      flood disaster heavy rain causes flash floodi...\n",
       "7                            im top hill see fire woods\n",
       "8      theres emergency evacuation happening buildin...\n",
       "9                         im afraid tornado coming area\n",
       "10                      three people died heat wave far\n",
       "11     haha south tampa getting flooded hah wait sec...\n",
       "12     raining flooding florida tampabay tampa 18 19...\n",
       "13                      flood bago myanmar arrived bago\n",
       "14        damage school bus 80 multi car crash breaking\n",
       "15                                            whats man\n",
       "16                                          love fruits\n",
       "17                                        summer lovely\n",
       "18                                             car fast\n",
       "19                                      goooooooaaaaaal\n",
       "20                                           ridiculous\n",
       "21                                          london cool\n",
       "22                                          love skiing\n",
       "23                                        wonderful day\n",
       "24                                             looooool\n",
       "25                                   wayi cant eat shit\n",
       "26                                        nyc last week\n",
       "27                                      love girlfriend\n",
       "28                                               cooool\n",
       "29                                           like pasta\n",
       "Name: text, dtype: object"
      ]
     },
     "execution_count": 56,
     "metadata": {},
     "output_type": "execute_result"
    }
   ],
   "source": [
    "train['text'].head(30)"
   ]
  },
  {
   "cell_type": "code",
   "execution_count": 57,
   "metadata": {},
   "outputs": [
    {
     "data": {
      "text/plain": [
       "0                           happened terrible car crash\n",
       "1      heard earthquake different cities stay safe e...\n",
       "2      forest fire spot pond geese fleeing across st...\n",
       "3                 apocalypse lighting spokane wildfires\n",
       "4                typhoon soudelor kills 28 china taiwan\n",
       "5                                 shakingits earthquake\n",
       "6      theyd probably still show life arsenal yester...\n",
       "7                                                   hey\n",
       "8                                              nice hat\n",
       "9                                                  fuck\n",
       "10                                       dont like cold\n",
       "11                                      nooooooooo dont\n",
       "12                                            dont tell\n",
       "13                                                     \n",
       "14                                              awesome\n",
       "15     birmingham wholesale market ablaze bbc news f...\n",
       "16               sunkxssedharry wear shorts race ablaze\n",
       "17     previouslyondoyintv toke makinwauas marriage ...\n",
       "18                                           check nsfw\n",
       "19     psa iuam splitting personalities techies foll...\n",
       "20            beware world ablaze sierra leone amp guap\n",
       "21              burning man ablaze turban diva via etsy\n",
       "22     diss song people take 1 thing run smh eye ope...\n",
       "23     rape victim dies sets ablaze 16yearold girl d...\n",
       "24                                       setting ablaze\n",
       "25     ctvtoronto bins front field house wer set abl...\n",
       "26     nowplaying alfons ablaze 2015 puls radio puls...\n",
       "27     burning rahm lets hope city hall builds giant...\n",
       "28     philippaeilhart dhublath hurt eyes ablaze ins...\n",
       "29     accident cleared paturnpike patp eb pa18 cran...\n",
       "Name: text, dtype: object"
      ]
     },
     "execution_count": 57,
     "metadata": {},
     "output_type": "execute_result"
    }
   ],
   "source": [
    "test['text'].head(30)"
   ]
  },
  {
   "cell_type": "code",
   "execution_count": 58,
   "metadata": {},
   "outputs": [],
   "source": [
    "# train.to_csv('../../Data/NLPNovice/DSKtrain.csv', index=False)\n",
    "# test.to_csv('../../Data/NLPNovice/DSKtest.csv', index=False)"
   ]
  },
  {
   "cell_type": "markdown",
   "metadata": {},
   "source": [
    "# Load pre cleaned text files"
   ]
  },
  {
   "cell_type": "code",
   "execution_count": 59,
   "metadata": {},
   "outputs": [],
   "source": [
    "# Load pre cleaned text files\n",
    "# train = pd.read_csv('../../Data/NLPNovice/DSKtrain.csv')\n",
    "# test = pd.read_csv('../../Data/NLPNovice/DSKtest.csv')\n",
    "\n",
    "# Convert text column from object to string\n",
    "train['text'] = train['text'].apply(lambda x : str(x))\n",
    "test['text'] = test['text'].apply(lambda x : str(x))\n",
    "\n",
    "#Shuffle Data \n",
    "train = train.sample(frac=1).reset_index(drop=True)\n",
    "test = test.sample(frac=1).reset_index(drop=True)"
   ]
  },
  {
   "cell_type": "markdown",
   "metadata": {},
   "source": [
    "# Prepare Tensor Flow Data"
   ]
  },
  {
   "cell_type": "code",
   "execution_count": 60,
   "metadata": {},
   "outputs": [
    {
     "name": "stdout",
     "output_type": "stream",
     "text": [
      "CPU times: user 23.2 s, sys: 679 ms, total: 23.9 s\n",
      "Wall time: 23.9 s\n"
     ]
    }
   ],
   "source": [
    "%%time\n",
    "module_url = 'https://tfhub.dev/tensorflow/bert_en_uncased_L-12_H-768_A-12/1'\n",
    "bert_layer = hub.KerasLayer(module_url, trainable=True)"
   ]
  },
  {
   "cell_type": "code",
   "execution_count": 61,
   "metadata": {},
   "outputs": [],
   "source": [
    "# See BERT paper: https://arxiv.org/pdf/1810.04805.pdf\n",
    "# And BERT implementation convert_single_example() at \n",
    "\n",
    "def bert_encode(texts, tokenizer, max_len):\n",
    "    all_tokens = []\n",
    "    all_masks = []\n",
    "    all_segments = []\n",
    "    \n",
    "    for text in texts:\n",
    "        text = tokenizer.tokenize(text)\n",
    "            \n",
    "        text = text[:max_len-2]\n",
    "        input_sequence = ['[CLS]'] + text + ['[SEP]']\n",
    "        pad_len = max_len - len(input_sequence)\n",
    "        \n",
    "        tokens = tokenizer.convert_tokens_to_ids(input_sequence)\n",
    "        tokens = tokens + [0] * pad_len\n",
    "\n",
    "        pad_masks = [1] * len(input_sequence) + [0] * pad_len\n",
    "        \n",
    "        segment_ids = [0] * max_len\n",
    "        \n",
    "        all_tokens.append(tokens)\n",
    "        all_masks.append(pad_masks)\n",
    "        all_segments.append(segment_ids)\n",
    "    \n",
    "    return np.array(all_tokens), np.array(all_masks), np.array(all_segments)"
   ]
  },
  {
   "cell_type": "code",
   "execution_count": 62,
   "metadata": {},
   "outputs": [],
   "source": [
    "# build the architecture of the model.\n",
    "# maxlenght BERT has a constraint on the maximum length of a sequence after tokenizing.\n",
    "# input token ids (tokenizer converts tokens using vocab file)\n",
    "# Input masks (1 for useful tokens, 0 for padding)\n",
    "# segment ids (for 2 text training: 0 for the first one, 1 for the second one)\n",
    "# pooled_output of shape [batch_size, 768] with representations for the entire input sequences\n",
    "# sequence_output of shape [batch_size, max_seq_length, 768] with representations for each input token\n",
    "\n",
    "maxlength=130 # Length of longest train tweet\n",
    "\n",
    "input_word_ids = Input(shape=(maxlength,), dtype=tf.int32, name='input_word_ids')\n",
    "input_mask = Input(shape=(maxlength,), dtype=tf.int32, name='input_mask')\n",
    "segment_ids = Input(shape=(maxlength,), dtype=tf.int32, name='segment_ids')"
   ]
  },
  {
   "cell_type": "code",
   "execution_count": 63,
   "metadata": {},
   "outputs": [
    {
     "ename": "AttributeError",
     "evalue": "'Tensor' object has no attribute 'numpy'",
     "output_type": "error",
     "traceback": [
      "\u001b[0;31m---------------------------------------------------------------------------\u001b[0m",
      "\u001b[0;31mAttributeError\u001b[0m                            Traceback (most recent call last)",
      "\u001b[0;32m<ipython-input-63-69f049329813>\u001b[0m in \u001b[0;36m<module>\u001b[0;34m\u001b[0m\n\u001b[0;32m----> 1\u001b[0;31m \u001b[0mvocab_file\u001b[0m \u001b[0;34m=\u001b[0m \u001b[0mbert_layer\u001b[0m\u001b[0;34m.\u001b[0m\u001b[0mresolved_object\u001b[0m\u001b[0;34m.\u001b[0m\u001b[0mvocab_file\u001b[0m\u001b[0;34m.\u001b[0m\u001b[0masset_path\u001b[0m\u001b[0;34m.\u001b[0m\u001b[0mnumpy\u001b[0m\u001b[0;34m(\u001b[0m\u001b[0;34m)\u001b[0m\u001b[0;34m\u001b[0m\u001b[0;34m\u001b[0m\u001b[0m\n\u001b[0m\u001b[1;32m      2\u001b[0m \u001b[0mdo_lower_case\u001b[0m \u001b[0;34m=\u001b[0m \u001b[0mbert_layer\u001b[0m\u001b[0;34m.\u001b[0m\u001b[0mresolved_object\u001b[0m\u001b[0;34m.\u001b[0m\u001b[0mdo_lower_case\u001b[0m\u001b[0;34m.\u001b[0m\u001b[0mnumpy\u001b[0m\u001b[0;34m(\u001b[0m\u001b[0;34m)\u001b[0m\u001b[0;34m\u001b[0m\u001b[0;34m\u001b[0m\u001b[0m\n\u001b[1;32m      3\u001b[0m \u001b[0mtokenizer\u001b[0m \u001b[0;34m=\u001b[0m \u001b[0mbert\u001b[0m\u001b[0;34m.\u001b[0m\u001b[0mtokenization\u001b[0m\u001b[0;34m.\u001b[0m\u001b[0mbert_tokenization\u001b[0m\u001b[0;34m.\u001b[0m\u001b[0mFullTokenizer\u001b[0m\u001b[0;34m(\u001b[0m\u001b[0mvocab_file\u001b[0m\u001b[0;34m,\u001b[0m \u001b[0mdo_lower_case\u001b[0m\u001b[0;34m)\u001b[0m\u001b[0;34m\u001b[0m\u001b[0;34m\u001b[0m\u001b[0m\n",
      "\u001b[0;31mAttributeError\u001b[0m: 'Tensor' object has no attribute 'numpy'"
     ]
    }
   ],
   "source": [
    "vocab_file = bert_layer.resolved_object.vocab_file.asset_path.numpy()\n",
    "do_lower_case = bert_layer.resolved_object.do_lower_case.numpy()\n",
    "tokenizer = bert.tokenization.bert_tokenization.FullTokenizer(vocab_file, do_lower_case)"
   ]
  },
  {
   "cell_type": "code",
   "execution_count": 33,
   "metadata": {},
   "outputs": [
    {
     "ename": "NameError",
     "evalue": "name 'tokenizer' is not defined",
     "output_type": "error",
     "traceback": [
      "\u001b[0;31m---------------------------------------------------------------------------\u001b[0m",
      "\u001b[0;31mNameError\u001b[0m                                 Traceback (most recent call last)",
      "\u001b[0;32m<ipython-input-33-673ac8cd2905>\u001b[0m in \u001b[0;36m<module>\u001b[0;34m\u001b[0m\n\u001b[0;32m----> 1\u001b[0;31m \u001b[0mtrain_input\u001b[0m \u001b[0;34m=\u001b[0m \u001b[0mbert_encode\u001b[0m\u001b[0;34m(\u001b[0m\u001b[0mtrain\u001b[0m\u001b[0;34m.\u001b[0m\u001b[0mtext\u001b[0m\u001b[0;34m.\u001b[0m\u001b[0mvalues\u001b[0m\u001b[0;34m,\u001b[0m \u001b[0mtokenizer\u001b[0m\u001b[0;34m,\u001b[0m \u001b[0mmax_len\u001b[0m\u001b[0;34m=\u001b[0m\u001b[0mmaxlength\u001b[0m\u001b[0;34m)\u001b[0m\u001b[0;34m\u001b[0m\u001b[0;34m\u001b[0m\u001b[0m\n\u001b[0m",
      "\u001b[0;31mNameError\u001b[0m: name 'tokenizer' is not defined"
     ]
    }
   ],
   "source": [
    "train_input = bert_encode(train.text.values, tokenizer, max_len=maxlength)"
   ]
  },
  {
   "cell_type": "code",
   "execution_count": 316,
   "metadata": {},
   "outputs": [],
   "source": [
    "test_input = bert_encode(test.text.values, tokenizer, max_len=maxlength)\n",
    "train_labels = train.target.values"
   ]
  },
  {
   "cell_type": "markdown",
   "metadata": {},
   "source": [
    "# Define Tensor Flow Model"
   ]
  },
  {
   "cell_type": "code",
   "execution_count": null,
   "metadata": {},
   "outputs": [],
   "source": [
    "_, sequence_output = bert_layer([input_word_ids, input_mask, segment_ids])\n",
    "\n",
    "clf_output = sequence_output[:, 0, :]\n",
    "\n",
    "\n",
    "out = Dense(1, activation='sigmoid')(clf_output)\n",
    "\n",
    "model = Model(inputs=[input_word_ids, input_mask, segment_ids], outputs=out)\n",
    "\n"
   ]
  },
  {
   "cell_type": "code",
   "execution_count": 317,
   "metadata": {},
   "outputs": [],
   "source": [
    "model.compile(loss='binary_crossentropy',  optimizer=Adam(lr=1e-4),metrics=['accuracy'])"
   ]
  },
  {
   "cell_type": "code",
   "execution_count": 318,
   "metadata": {
    "scrolled": true
   },
   "outputs": [
    {
     "name": "stdout",
     "output_type": "stream",
     "text": [
      "Model: \"model_24\"\n",
      "__________________________________________________________________________________________________\n",
      "Layer (type)                    Output Shape         Param #     Connected to                     \n",
      "==================================================================================================\n",
      "input_word_ids (InputLayer)     [(None, 130)]        0                                            \n",
      "__________________________________________________________________________________________________\n",
      "input_mask (InputLayer)         [(None, 130)]        0                                            \n",
      "__________________________________________________________________________________________________\n",
      "segment_ids (InputLayer)        [(None, 130)]        0                                            \n",
      "__________________________________________________________________________________________________\n",
      "keras_layer_6 (KerasLayer)      [(None, 768), (None, 109482241   input_word_ids[0][0]             \n",
      "                                                                 input_mask[0][0]                 \n",
      "                                                                 segment_ids[0][0]                \n",
      "__________________________________________________________________________________________________\n",
      "tf_op_layer_strided_slice_29 (T [(None, 768)]        0           keras_layer_6[0][1]              \n",
      "__________________________________________________________________________________________________\n",
      "dense_43 (Dense)                (None, 768)          590592      tf_op_layer_strided_slice_29[0][0\n",
      "__________________________________________________________________________________________________\n",
      "dropout_16 (Dropout)            (None, 768)          0           dense_43[0][0]                   \n",
      "__________________________________________________________________________________________________\n",
      "dense_44 (Dense)                (None, 1)            769         dropout_16[0][0]                 \n",
      "==================================================================================================\n",
      "Total params: 110,073,602\n",
      "Trainable params: 110,073,601\n",
      "Non-trainable params: 1\n",
      "__________________________________________________________________________________________________\n"
     ]
    }
   ],
   "source": [
    "model.summary()"
   ]
  },
  {
   "cell_type": "code",
   "execution_count": null,
   "metadata": {},
   "outputs": [],
   "source": [
    "# Model Parameters with learning rate scheduler\n",
    "batchsize = 32\n",
    "num_classes = 10\n",
    "epochs = 40\n",
    "stepsperepoch = train_input.shape[0]// batchsize\n",
    "annealer = LearningRateScheduler(lambda x: 1e-3 * 0.9 ** x)"
   ]
  },
  {
   "cell_type": "code",
   "execution_count": 320,
   "metadata": {
    "scrolled": true
   },
   "outputs": [
    {
     "name": "stdout",
     "output_type": "stream",
     "text": [
      "Train on 6090 samples, validate on 1523 samples\n",
      "Epoch 1/6\n",
      "6090/6090 [==============================] - 100s 16ms/sample - loss: 0.4400 - accuracy: 0.8034 - val_loss: 0.4173 - val_accuracy: 0.8181\n",
      "Epoch 2/6\n",
      "6090/6090 [==============================] - 97s 16ms/sample - loss: 0.2654 - accuracy: 0.8997 - val_loss: 0.4692 - val_accuracy: 0.8063\n",
      "Epoch 3/6\n",
      "6090/6090 [==============================] - 97s 16ms/sample - loss: 0.1274 - accuracy: 0.9537 - val_loss: 0.5679 - val_accuracy: 0.8011\n",
      "Epoch 4/6\n",
      " 480/6090 [=>............................] - ETA: 1:22 - loss: 0.0519 - accuracy: 0.9821"
     ]
    },
    {
     "ename": "KeyboardInterrupt",
     "evalue": "",
     "output_type": "error",
     "traceback": [
      "\u001b[0;31m---------------------------------------------------------------------------\u001b[0m",
      "\u001b[0;31mKeyboardInterrupt\u001b[0m                         Traceback (most recent call last)",
      "\u001b[0;32m<ipython-input-320-b502fe8905ef>\u001b[0m in \u001b[0;36m<module>\u001b[0;34m\u001b[0m\n\u001b[1;32m      9\u001b[0m         \u001b[0mcallbacks\u001b[0m\u001b[0;34m=\u001b[0m\u001b[0;34m[\u001b[0m\u001b[0mcallback\u001b[0m\u001b[0;34m]\u001b[0m\u001b[0;34m,\u001b[0m\u001b[0;34m\u001b[0m\u001b[0m\n\u001b[1;32m     10\u001b[0m         \u001b[0mepochs\u001b[0m\u001b[0;34m=\u001b[0m\u001b[0;36m6\u001b[0m\u001b[0;34m,\u001b[0m\u001b[0;34m\u001b[0m\u001b[0m\n\u001b[0;32m---> 11\u001b[0;31m         batch_size=32)\n\u001b[0m\u001b[1;32m     12\u001b[0m \u001b[0;34m\u001b[0m\u001b[0m\n\u001b[1;32m     13\u001b[0m \u001b[0mprint\u001b[0m\u001b[0;34m(\u001b[0m\u001b[0;34m'\\nhistory dict:'\u001b[0m\u001b[0;34m,\u001b[0m \u001b[0mhistory\u001b[0m\u001b[0;34m.\u001b[0m\u001b[0mhistory\u001b[0m\u001b[0;34m)\u001b[0m\u001b[0;34m\u001b[0m\u001b[0m\n",
      "\u001b[0;32m/opt/conda/lib/python3.6/site-packages/tensorflow_core/python/keras/engine/training.py\u001b[0m in \u001b[0;36mfit\u001b[0;34m(self, x, y, batch_size, epochs, verbose, callbacks, validation_split, validation_data, shuffle, class_weight, sample_weight, initial_epoch, steps_per_epoch, validation_steps, validation_freq, max_queue_size, workers, use_multiprocessing, **kwargs)\u001b[0m\n",
      "\u001b[0;32m/opt/conda/lib/python3.6/site-packages/tensorflow_core/python/keras/engine/training_v2.py\u001b[0m in \u001b[0;36mfit\u001b[0;34m(self, model, x, y, batch_size, epochs, verbose, callbacks, validation_split, validation_data, shuffle, class_weight, sample_weight, initial_epoch, steps_per_epoch, validation_steps, validation_freq, max_queue_size, workers, use_multiprocessing, **kwargs)\u001b[0m\n",
      "\u001b[0;32m/opt/conda/lib/python3.6/site-packages/tensorflow_core/python/keras/engine/training_v2.py\u001b[0m in \u001b[0;36mrun_one_epoch\u001b[0;34m(model, iterator, execution_function, dataset_size, batch_size, strategy, steps_per_epoch, num_samples, mode, training_context, total_epochs)\u001b[0m\n",
      "\u001b[0;32m/opt/conda/lib/python3.6/site-packages/tensorflow_core/python/keras/engine/training_v2_utils.py\u001b[0m in \u001b[0;36mexecution_function\u001b[0;34m(input_fn)\u001b[0m\n",
      "\u001b[0;32m/opt/conda/lib/python3.6/site-packages/tensorflow_core/python/util/nest.py\u001b[0m in \u001b[0;36mmap_structure\u001b[0;34m(func, *structure, **kwargs)\u001b[0m\n",
      "\u001b[0;32m/opt/conda/lib/python3.6/site-packages/tensorflow_core/python/util/nest.py\u001b[0m in \u001b[0;36m<listcomp>\u001b[0;34m(.0)\u001b[0m\n",
      "\u001b[0;32m/opt/conda/lib/python3.6/site-packages/tensorflow_core/python/keras/engine/training_v2_utils.py\u001b[0m in \u001b[0;36m_non_none_constant_value\u001b[0;34m(v)\u001b[0m\n",
      "\u001b[0;32m/opt/conda/lib/python3.6/site-packages/tensorflow_core/python/framework/tensor_util.py\u001b[0m in \u001b[0;36mconstant_value\u001b[0;34m(tensor, partial)\u001b[0m\n",
      "\u001b[0;32m/opt/conda/lib/python3.6/site-packages/tensorflow_core/python/framework/ops.py\u001b[0m in \u001b[0;36mnumpy\u001b[0;34m(self)\u001b[0m\n",
      "\u001b[0;32m/opt/conda/lib/python3.6/site-packages/tensorflow_core/python/framework/ops.py\u001b[0m in \u001b[0;36m_numpy\u001b[0;34m(self)\u001b[0m\n",
      "\u001b[0;31mKeyboardInterrupt\u001b[0m: "
     ]
    }
   ],
   "source": [
    "history = model.fit(\n",
    "        train_input, train_labels,\n",
    "        callbacks=[annealer]],\n",
    "        epochs=epoch,\n",
    "        batch_size=batchsize)    "
   ]
  },
  {
   "cell_type": "code",
   "execution_count": null,
   "metadata": {},
   "outputs": [],
   "source": [
    "loss, accuracy = model.evaluate(X_train, y_train, verbose=False)\n",
    "print('Training Accuracy: {:.4f}'.format(accuracy))\n",
    "loss, accuracy = model.evaluate(X_val, y_val, verbose=False)\n",
    "print('Testing Accuracy:  {:.4f}'.format(accuracy))\n",
    "history_dict = history.history"
   ]
  },
  {
   "cell_type": "code",
   "execution_count": null,
   "metadata": {},
   "outputs": [],
   "source": [
    "# Plot Loss\n",
    "loss = history_dict['loss']\n",
    "val_loss = history_dict['val_loss']\n",
    "\n",
    "epochs = range(1, len(loss) + 1)\n",
    "plt.plot(epochs, loss, color='b', label='Training loss')\n",
    "plt.plot(epochs, val_loss, color='r', label='Validation loss')\n",
    "plt.title('Training and validation loss')\n",
    "plt.xlabel('Epochs')\n",
    "plt.ylabel('Loss')\n",
    "plt.legend()\n",
    "\n",
    "plt.show()"
   ]
  },
  {
   "cell_type": "code",
   "execution_count": null,
   "metadata": {},
   "outputs": [],
   "source": [
    "# Plot Accuracy\n",
    "acc = history_dict['accuracy']\n",
    "val_acc = history_dict['val_accuracy']\n",
    "\n",
    "plt.clf() \n",
    "plt.plot(epochs, acc, color='b', label='Training acc')\n",
    "plt.plot(epochs, val_acc, color='r', label='Validation acc')\n",
    "plt.title('Training and validation accuracy')\n",
    "plt.xlabel('Epochs')\n",
    "plt.ylabel('Accuracy')\n",
    "plt.legend()\n",
    "\n",
    "plt.show()"
   ]
  },
  {
   "cell_type": "code",
   "execution_count": null,
   "metadata": {},
   "outputs": [],
   "source": [
    "# Error analysis\n",
    "y_hat = pipeline_grid.predict_proba(X_train2)[:,1]\n",
    "checker = train.loc[:,['text','keyword','location','target']]\n",
    "checker['pred_prob'] = y_hat\n",
    "checker['error'] = np.abs(checker['target'] - checker['pred_prob'])\n",
    "\n",
    "# Top 50 mispredicted tweets\n",
    "error50 = checker.sort_values('error', ascending=False).head(50)\n",
    "error50 = error50.rename_axis('id').reset_index()\n",
    "error50.target.value_counts()"
   ]
  },
  {
   "cell_type": "markdown",
   "metadata": {},
   "source": [
    "# Predict and Submit Final Model"
   ]
  },
  {
   "cell_type": "code",
   "execution_count": null,
   "metadata": {},
   "outputs": [],
   "source": [
    "predict=model.predict(test_input)\n",
    "print(predict)"
   ]
  },
  {
   "cell_type": "code",
   "execution_count": null,
   "metadata": {},
   "outputs": [],
   "source": [
    "predict=np.round(predict).astype(int).reshape(3263)\n",
    "sub=pd.DataFrame({'id':test['id'].values.tolist(),'target':predict})"
   ]
  },
  {
   "cell_type": "code",
   "execution_count": null,
   "metadata": {},
   "outputs": [],
   "source": [
    "sub.to_csv('DSKsubmission.csv', index=False)"
   ]
  },
  {
   "cell_type": "code",
   "execution_count": null,
   "metadata": {},
   "outputs": [],
   "source": [
    "!kaggle competitions submit -c nlp-getting-started -f DSKsubmission.csv -m 'DSK NLP with Keras'"
   ]
  },
  {
   "cell_type": "code",
   "execution_count": 0,
   "metadata": {
    "_cell_guid": "",
    "_uuid": ""
   },
   "outputs": [],
   "source": [
    "import pandas as pd\n",
    "sample_submission = pd.read_csv('../input/nlp-getting-started/sample_submission.csv')\n"
   ]
  }
 ],
 "metadata": {
  "kernelspec": {
   "display_name": "Python 3",
   "language": "python",
   "name": "python3"
  },
  "language_info": {
   "codemirror_mode": {
    "name": "ipython",
    "version": 3
   },
   "file_extension": ".py",
   "mimetype": "text/x-python",
   "name": "python",
   "nbconvert_exporter": "python",
   "pygments_lexer": "ipython3",
   "version": "3.7.4"
  }
 },
 "nbformat": 4,
 "nbformat_minor": 1
}
